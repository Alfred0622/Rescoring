{
 "cells": [
  {
   "cell_type": "code",
   "execution_count": null,
   "metadata": {},
   "outputs": [],
   "source": [
    "import torch\n",
    "import time\n",
    "import sys\n",
    "import json\n",
    "import os\n",
    "sys.path.append(\"../\")\n",
    "sys.path.append(\"../..\")\n",
    "from torch.nn.functional import log_softmax\n",
    "from utils.LoadConfig import load_config\n",
    "from utils.PrepareModel import prepare_GPT2\n",
    "from utils.cal_score import get_sentence_score"
   ]
  },
  {
   "attachments": {},
   "cell_type": "markdown",
   "metadata": {},
   "source": [
    "# CLM"
   ]
  },
  {
   "cell_type": "code",
   "execution_count": null,
   "metadata": {},
   "outputs": [],
   "source": [
    "dataset = 'aishell'\n",
    "with open(\"/mnt/disk6/Alfred/Rescoring/data/sample/aishell/noLM/data.json\") as sample:\n",
    "    data_json = json.load(sample)"
   ]
  },
  {
   "cell_type": "code",
   "execution_count": null,
   "metadata": {},
   "outputs": [],
   "source": [
    "os.environ['CUDA_VISIBLE_DEVICES'] = '2'\n",
    "# device = torch.device('cuda')\n",
    "device = torch.device('cpu')\n",
    "model, tokenizer = prepare_GPT2(dataset, device)\n",
    "model.eval()"
   ]
  },
  {
   "cell_type": "code",
   "execution_count": null,
   "metadata": {},
   "outputs": [],
   "source": [
    "bos = tokenizer.cls_token_id if (tokenizer.cls_token is not None) else tokenizer.bos_token_id\n",
    "eos = tokenizer.sep_token_id if (tokenizer.sep_token is not None) else tokenizer.eos_token_id\n",
    "pad = tokenizer.pad_token_id if (tokenizer.pad_token is not None) else 0\n",
    "# dummy = \"[PAD]\"\n",
    "# output = tokenizer(dummy, return_tensors='pt')\n",
    "# input_ids = output[\"input_ids\"].to(device)\n",
    "# attention_mask = output['attention_mask'].to(device)\n",
    "# output = model(\n",
    "#             input_ids = input_ids,\n",
    "#             attention_mask = attention_mask\n",
    "#         ).logits\n",
    "# output_scores = log_softmax(output, dim = -1)\n",
    "# score = get_sentence_score(output_scores, input_ids, bos, eos, pad)\n",
    "# t0 = time.time()\n",
    "# t1 = time.time()\n",
    "data = data_json[1]\n",
    "top_hyp = data['hyps'][0]\n",
    "output = tokenizer(top_hyp, return_tensors='pt')\n",
    "input_ids = output[\"input_ids\"].to(device)\n",
    "attention_mask = output['attention_mask'].to(device)\n",
    "with torch.no_grad():\n",
    "    torch.cuda.synchronize()\n",
    "    t0 = time.time()\n",
    "    output = model(\n",
    "        input_ids = input_ids,\n",
    "        attention_mask = attention_mask\n",
    "    ).logits\n",
    "    # torch.cuda.synchronize()\n",
    "    # t2 = time.time()\n",
    "    output_scores = log_softmax(output, dim = -1)\n",
    "    score = get_sentence_score(output_scores, input_ids, bos, eos, pad)\n",
    "    torch.cuda.synchronize()\n",
    "    t1 = time.time()\n",
    "print(f'len:{input_ids.shape[1] - 2}, time:{t1 - t0}')\n",
    "# print(f'calculate forward only:{t2-t0}')\n",
    "\n",
    "# for i, data in enumerate(data_json):\n",
    "#     top_hyp = data['hyps'][0]\n",
    "#     output = tokenizer(top_hyp, return_tensors='pt')\n",
    "#     input_ids = output[\"input_ids\"].to(device)\n",
    "#     attention_mask = output['attention_mask'].to(device)\n",
    "\n",
    "#     print(f'len:{input_ids.shape[1] - 2}')\n",
    "    \n",
    "#     with torch.no_grad():\n",
    "#         torch.cuda.synchronize()\n",
    "#         t0 = time.time()\n",
    "#         output = model(\n",
    "#             input_ids = input_ids,\n",
    "#             attention_mask = attention_mask\n",
    "#         ).logits\n",
    "#         torch.cuda.synchronize()\n",
    "#         t2 = time.time()\n",
    "#         output_scores = log_softmax(output, dim = -1)\n",
    "#         score = get_sentence_score(output_scores, input_ids, bos, eos, pad)\n",
    "#         torch.cuda.synchronize()\n",
    "#         t1 = time.time()\n",
    "\n",
    "#         print(f'len:{input_ids.shape[1] - 2}, time:{t1 - t0}')\n",
    "#         print(f'calculate forward only:{t2-t0}')\n"
   ]
  },
  {
   "cell_type": "code",
   "execution_count": null,
   "metadata": {},
   "outputs": [],
   "source": []
  },
  {
   "cell_type": "code",
   "execution_count": null,
   "metadata": {},
   "outputs": [],
   "source": []
  }
 ],
 "metadata": {
  "kernelspec": {
   "display_name": "torch10",
   "language": "python",
   "name": "python3"
  },
  "language_info": {
   "codemirror_mode": {
    "name": "ipython",
    "version": 3
   },
   "file_extension": ".py",
   "mimetype": "text/x-python",
   "name": "python",
   "nbconvert_exporter": "python",
   "pygments_lexer": "ipython3",
   "version": "3.9.0"
  },
  "orig_nbformat": 4
 },
 "nbformat": 4,
 "nbformat_minor": 2
}
