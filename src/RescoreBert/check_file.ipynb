{
 "cells": [
  {
   "cell_type": "code",
   "execution_count": null,
   "metadata": {},
   "outputs": [],
   "source": [
    "import json"
   ]
  },
  {
   "cell_type": "code",
   "execution_count": null,
   "metadata": {},
   "outputs": [],
   "source": [
    "with open(\"/mnt/disk6/Alfred/Rescoring/data/aishell2/data/withLM/train/data.json\") as f:\n",
    "    gen_data = json.load(f)"
   ]
  },
  {
   "cell_type": "code",
   "execution_count": null,
   "metadata": {},
   "outputs": [],
   "source": [
    "with open(\"/mnt/disk6/Alfred/Rescoring/data/aishell2/raw/withLM/train/data.json\") as f:\n",
    "    data = json.load(f)"
   ]
  },
  {
   "cell_type": "code",
   "execution_count": null,
   "metadata": {},
   "outputs": [],
   "source": [
    "print(type(data))"
   ]
  },
  {
   "cell_type": "code",
   "execution_count": null,
   "metadata": {},
   "outputs": [],
   "source": [
    "data.keys()"
   ]
  },
  {
   "cell_type": "code",
   "execution_count": null,
   "metadata": {},
   "outputs": [],
   "source": [
    "print(type(gen_data))"
   ]
  },
  {
   "cell_type": "code",
   "execution_count": null,
   "metadata": {},
   "outputs": [],
   "source": [
    "count =0\n",
    "s = []\n",
    "for d in data['utts'].keys():\n",
    "    if (len(data['utts'][d])) <= 1:\n",
    "        count += 1\n",
    "        s.append(d)\n",
    "\n",
    "print(f'{count}')\n",
    "for a in s:\n",
    "    print(f\"{a}\\n\")"
   ]
  },
  {
   "cell_type": "code",
   "execution_count": null,
   "metadata": {},
   "outputs": [],
   "source": [
    "count =0\n",
    "s = []\n",
    "for d in gen_data:\n",
    "    if (len(d['hyps'])) <= 1:\n",
    "        count += 1\n",
    "        s.append(d)\n",
    "\n",
    "print(f'{count}')\n",
    "for a in s:\n",
    "    print(f\"{a}\\n\")"
   ]
  },
  {
   "cell_type": "code",
   "execution_count": null,
   "metadata": {},
   "outputs": [],
   "source": []
  },
  {
   "cell_type": "code",
   "execution_count": null,
   "metadata": {},
   "outputs": [],
   "source": [
    "num_no50 = 0\n",
    "for d in data:\n",
    "    if (len(d['token']) != 50):\n",
    "        num_no50 += 1\n",
    "        print(f\"{d['name']} is {len(d['token'])}\")\n",
    "print(num_no50)"
   ]
  },
  {
   "cell_type": "code",
   "execution_count": null,
   "metadata": {},
   "outputs": [],
   "source": [
    "num_no50 = 0\n",
    "for d in data:\n",
    "    if (len(d['pll']) != len(d['token'])):\n",
    "        print(f\"illegal:{d['name']}\")\n",
    "    if (len(d['pll']) != 50):\n",
    "        num_no50 += 1\n",
    "        print(f\"{d['name']} is {len(d['pll'])}\")\n",
    "print(num_no50)"
   ]
  },
  {
   "cell_type": "code",
   "execution_count": null,
   "metadata": {},
   "outputs": [],
   "source": []
  }
 ],
 "metadata": {
  "kernelspec": {
   "display_name": "Python 3.6.9 64-bit",
   "language": "python",
   "name": "python3"
  },
  "language_info": {
   "codemirror_mode": {
    "name": "ipython",
    "version": 3
   },
   "file_extension": ".py",
   "mimetype": "text/x-python",
   "name": "python",
   "nbconvert_exporter": "python",
   "pygments_lexer": "ipython3",
   "version": "3.9.0"
  },
  "orig_nbformat": 4,
  "vscode": {
   "interpreter": {
    "hash": "31f2aee4e71d21fbe5cf8b01ff0e069b9275f58929596ceb00d14d90e3e16cd6"
   }
  }
 },
 "nbformat": 4,
 "nbformat_minor": 2
}
