{
 "cells": [
  {
   "cell_type": "code",
   "execution_count": null,
   "metadata": {},
   "outputs": [],
   "source": [
    "import json\n",
    "import os\n",
    "import subprocess\n",
    "from tqdm.notebook import tqdm\n",
    "from pathlib import Path"
   ]
  },
  {
   "cell_type": "code",
   "execution_count": null,
   "metadata": {},
   "outputs": [],
   "source": [
    "task = ['noLM']\n",
    "datasets = ['dev', 'eval1', 'eval2', 'eval3']"
   ]
  },
  {
   "cell_type": "code",
   "execution_count": null,
   "metadata": {},
   "outputs": [],
   "source": [
    "data_file = f\"/mnt/disk6/Alfred/Rescoring/data/csj/data/noLM/dev/data.json\"\n",
    "dest_file = f\"/mnt/disk6/Alfred/Rescoring/src/Correction/data/csj/noLM/dev/data.json\""
   ]
  },
  {
   "attachments": {},
   "cell_type": "markdown",
   "metadata": {},
   "source": []
  },
  {
   "cell_type": "code",
   "execution_count": null,
   "metadata": {},
   "outputs": [],
   "source": [
    "os.environ[\"PATH\"] = f\"/mnt/disk6/Alfred/Rescoring/src/Correction/jumanpp-2.0.0-rc3/bld/bin:{os.environ['PATH']}\""
   ]
  },
  {
   "cell_type": "code",
   "execution_count": null,
   "metadata": {},
   "outputs": [],
   "source": [
    "os.environ[\"PATH\"]"
   ]
  },
  {
   "cell_type": "code",
   "execution_count": null,
   "metadata": {},
   "outputs": [],
   "source": [
    "task = ['noLM']\n",
    "datasets = [f\"train_{i}\" for i in range(1,17)]"
   ]
  },
  {
   "cell_type": "code",
   "execution_count": null,
   "metadata": {},
   "outputs": [],
   "source": [
    "datasets"
   ]
  },
  {
   "cell_type": "code",
   "execution_count": null,
   "metadata": {},
   "outputs": [],
   "source": [
    "for s in task:\n",
    "    for dataset in datasets:\n",
    "        print(f\"{s}: {dataset}\")\n",
    "        data_file = f\"/mnt/disk6/Alfred/Rescoring/data/csj/data/{s}/{dataset}/data.json\"\n",
    "        dest_file = f\"/mnt/disk6/Alfred/Rescoring/src/Correction/data/csj/{s}/{dataset}\"\n",
    "        data_list = []\n",
    "        with open(data_file) as f:\n",
    "            data_json = json.load(f)\n",
    "            for i, data in tqdm(enumerate(data_json), ncols = 100, total= len(data_json)):\n",
    "                temp_dict = {}\n",
    "                temp_dict['name'] = data['name']\n",
    "                temp_list = []\n",
    "                for j, hyp in enumerate(data['hyps'][:10]):\n",
    "\n",
    "                    hyp = \"\".join(hyp.split()).replace(\"<eos>\", \"\")\n",
    "                    # print(f\"hyp:{hyp}\")\n",
    "                    command = \"echo \" + hyp + \" | jumanpp --segment\"\n",
    "                    result = subprocess.check_output(f\"echo {hyp} | jumanpp --segment\", shell = True).decode('utf-8')\n",
    "                    result = result.replace(\"\\n\", \"\")\n",
    "                    assert(\"\\n\" not in result), \"ERROR\"\n",
    "                    temp_list.append(result)\n",
    "                    # print(type(result))\n",
    "                    # print(f'result:{result}')\n",
    "\n",
    "                ref = \"\".join(data['ref'].split()).replace(\"<eos>\", \"\")\n",
    "                result = subprocess.check_output(f\"echo {ref} | jumanpp --segment\", shell = True).decode('utf-8')\n",
    "                result = result.replace(\"\\n\", \"\")\n",
    "                assert(\"\\n\" not in result), \"ERROR\"\n",
    "                temp_dict['hyps'] = temp_list\n",
    "                temp_dict['ref'] = result\n",
    "                data_list.append(temp_dict)\n",
    "        \n",
    "        dest_file = Path(dest_file)\n",
    "        dest_file.mkdir(parents=True, exist_ok=True)\n",
    "\n",
    "        with open(f\"{dest_file}/dat.json\", 'w') as d:\n",
    "            json.dump(data_list, d, ensure_ascii=False, indent = 1)"
   ]
  },
  {
   "cell_type": "code",
   "execution_count": null,
   "metadata": {},
   "outputs": [],
   "source": [
    "data_list[0]"
   ]
  },
  {
   "cell_type": "code",
   "execution_count": null,
   "metadata": {},
   "outputs": [],
   "source": []
  },
  {
   "cell_type": "code",
   "execution_count": null,
   "metadata": {},
   "outputs": [],
   "source": []
  }
 ],
 "metadata": {
  "kernelspec": {
   "display_name": "torch10",
   "language": "python",
   "name": "python3"
  },
  "language_info": {
   "codemirror_mode": {
    "name": "ipython",
    "version": 3
   },
   "file_extension": ".py",
   "mimetype": "text/x-python",
   "name": "python",
   "nbconvert_exporter": "python",
   "pygments_lexer": "ipython3",
   "version": "3.9.0"
  },
  "orig_nbformat": 4
 },
 "nbformat": 4,
 "nbformat_minor": 2
}
