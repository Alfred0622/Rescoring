{
 "cells": [
  {
   "cell_type": "code",
   "execution_count": 1,
   "metadata": {},
   "outputs": [
    {
     "name": "stderr",
     "output_type": "stream",
     "text": [
      "/work/jason90255/espnet/tools/anaconda/envs/espnet/lib/python3.7/site-packages/tqdm/auto.py:22: TqdmWarning: IProgress not found. Please update jupyter and ipywidgets. See https://ipywidgets.readthedocs.io/en/stable/user_install.html\n",
      "  from .autonotebook import tqdm as notebook_tqdm\n"
     ]
    }
   ],
   "source": [
    "import json\n",
    "from transformers import BertTokenizer\n",
    "import torch"
   ]
  },
  {
   "cell_type": "code",
   "execution_count": 6,
   "metadata": {},
   "outputs": [],
   "source": [
    "json_name = f'./data/aishell_train/token_pll.json'"
   ]
  },
  {
   "cell_type": "code",
   "execution_count": 7,
   "metadata": {},
   "outputs": [],
   "source": [
    "tokenizer = BertTokenizer.from_pretrained(\"bert-base-chinese\")"
   ]
  },
  {
   "cell_type": "code",
   "execution_count": 8,
   "metadata": {},
   "outputs": [
    {
     "name": "stdout",
     "output_type": "stream",
     "text": [
      "0.014956826519423877\n",
      "0.0\n",
      "[0.014956826519423877, 0.016462508518229734, 0.01827799687072463, 0.020488257125401636, 0.02310716120854534, 0.026183838859080304, 0.029710776116935716, 0.03370357889918173, 0.03808537361432461, 0.04274980882751589, 0.0477714461425352, 0.052821983303980725, 0.05785171257599937, 0.06263810514110928, 0.06709561745388885, 0.07120228563105416, 0.07483846430840066, 0.07802669536614082, 0.08079934663227199, 0.08300613890537786, 0.08483781117187143, 0.0864244127406707, 0.08762838034278686, 0.08856473536699626, 0.08935370117443196, 0.08992649613059957, 0.09045073934477112, 0.0909015769490201, 0.09126513701706189, 0.09158303532775026, 0.09183735397630097, 0.09204080889514153, 0.09225466775869554, 0.09242575484953873, 0.09258123602331177, 0.09273440520937072, 0.09288295042000147, 0.0930239816705614, 0.09313553507776659, 0.09321703264468853, 0.09329275024232521, 0.09335748589831994, 0.09341990956660057, 0.09348175523795267, 0.09354302291237625, 0.09358406069430147, 0.09364128239022537, 0.09371064202164829, 0.09375745977285876, 0.09379734156092695, 0.09385398525992233, 0.09389328905106198, 0.09393028085448754, 0.09396149268862786, 0.09398519056269734, 0.09402102637226586, 0.09404356825247831, 0.09406784412347632, 0.09409269799140288, 0.09411177189004417, 0.09412853380097139, 0.09415454366275497, 0.09417303956446775, 0.09418286551225266, 0.09419731543546578, 0.09421870132182118, 0.09423546323274838, 0.09425395913446116, 0.09427187703924542, 0.09428517096860148, 0.0943071348518854, 0.09432216277202703, 0.09432678674745522, 0.09433950267988275, 0.09434875063073915, 0.09436377855088078, 0.09437533848945126, 0.09438863241880732, 0.09440019235737782, 0.09441117429901978, 0.09442389023144732, 0.09443602816694632, 0.09444874409937386, 0.09445972604101582, 0.09447012998572926, 0.09448515790587089, 0.09449151587208465, 0.094499607829084, 0.09450538779836924, 0.09451290175844006, 0.09452041571851087, 0.09452677368472463, 0.09453139766015284, 0.09453833362329513, 0.0945377556263666, 0.09454122360793775, 0.09454931556493709, 0.09455740752193643, 0.09456665547279282, 0.09457474742979216]\n"
     ]
    }
   ],
   "source": [
    "with open(json_name, 'r') as f, open(f'./data/recog_data/dev/hyp.trn', 'w') as hyp, open(f'./data/recog_data/dev/ref.trn', 'w') as ref:\n",
    "    data = json.load(f)\n",
    "    num = 0\n",
    "    cers = []\n",
    "    min_cer = 100\n",
    "    best_weight = 0.0\n",
    "    for num in range(100):\n",
    "        weight = num * 0.01\n",
    "        c = 0\n",
    "        s = 0\n",
    "        de = 0\n",
    "        i = 0\n",
    "        for d in data:\n",
    "            score = torch.tensor(d['score'])\n",
    "            pll = torch.tensor(d['pll'])\n",
    "\n",
    "            weight_sum = score + weight * pll\n",
    "            \n",
    "            mask_index = torch.argmax(weight_sum).item()\n",
    "\n",
    "            c += d['err'][mask_index][0]\n",
    "            s += d['err'][mask_index][1]\n",
    "            de += d['err'][mask_index][2]\n",
    "            i += d['err'][mask_index][3]\n",
    "        cer = (s + de + i) / (c + s + de)\n",
    "        cers.append(cer)\n",
    "        if (cer < min_cer):\n",
    "            min_cer = cer\n",
    "            best_weight = weight\n",
    "    print(min_cer)\n",
    "    print(best_weight)\n",
    "    print(cers)\n"
   ]
  },
  {
   "cell_type": "code",
   "execution_count": null,
   "metadata": {},
   "outputs": [],
   "source": []
  }
 ],
 "metadata": {
  "interpreter": {
   "hash": "8b61d4f77dfbe8390dfee6517b8c5af4fcaae1c92a3d097799b61ff8897a7412"
  },
  "kernelspec": {
   "display_name": "Python 3.7.11",
   "language": "python",
   "name": "python3"
  },
  "language_info": {
   "codemirror_mode": {
    "name": "ipython",
    "version": 3
   },
   "file_extension": ".py",
   "mimetype": "text/x-python",
   "name": "python",
   "nbconvert_exporter": "python",
   "pygments_lexer": "ipython3",
   "version": "3.7.11"
  },
  "orig_nbformat": 4
 },
 "nbformat": 4,
 "nbformat_minor": 2
}
