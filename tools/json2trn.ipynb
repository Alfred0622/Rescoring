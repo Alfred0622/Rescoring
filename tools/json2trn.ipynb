{
 "cells": [
  {
   "cell_type": "code",
   "execution_count": 1,
   "metadata": {},
   "outputs": [],
   "source": [
    "import json"
   ]
  },
  {
   "cell_type": "code",
   "execution_count": 2,
   "metadata": {},
   "outputs": [],
   "source": [
    "dataset = 'aishell'\n",
    "recog_set = ['train', 'dev', 'test']\n",
    "nbest = 50"
   ]
  },
  {
   "cell_type": "code",
   "execution_count": null,
   "metadata": {},
   "outputs": [],
   "source": [
    "for r in recog_set:\n",
    "    print(r)\n",
    "    json_name = f'./data/{dataset}_{r}/{nbest}_best/data.json'\n",
    "    with open(json_name, 'r') as f,\\\n",
    "         open(f'./data/{dataset}_{r}/{nbest}_best/hyp.trn', 'w') as hyp,\\\n",
    "        open(f'./data/{dataset}_{r}/{nbest}_best/ref.trn', 'w') as ref:\n",
    "        j = json.load(f)\n",
    "        for k in j['utts'].keys():\n",
    "            assert(len(j['utts'][k]['output']) == nbest)\n",
    "            for i, h in enumerate(j['utts'][k]['output']):\n",
    "                # print(j['utts'][k]['output'])\n",
    "                seq = [t for t in h['rec_token'].split()]\n",
    "                hyp_seq = \" \".join(seq[:-1])\n",
    "                hyp.write( f'{hyp_seq} ({j[\"utts\"][k][\"utt2spk\"].replace(\"-\", \"_\")}-{k}-hyp[{i}])\\n' )\n",
    "                # hyp.write(hyp_seq + '(' + j[\"utts\"][k][\"utt2spk\"].replace(\"-\", \"_\") + '-' + 'hyp' + i + ')')\n",
    "\n",
    "                ref_seq = h[\"token\"]\n",
    "                ref.write( f'{ref_seq} ({j[\"utts\"][k][\"utt2spk\"].replace(\"-\", \"_\")}-{k}-hyp[{i}])\\n' )"
   ]
  },
  {
   "cell_type": "markdown",
   "metadata": {},
   "source": [
    "上面code跑完 執行espnet的\n",
    "```sclite -r ./ref.trn -h  ./hyp.trn -i rm -o all stdout >  ./result.txt```"
   ]
  },
  {
   "cell_type": "code",
   "execution_count": 5,
   "metadata": {},
   "outputs": [],
   "source": [
    "recog_set = ['dev', 'test']"
   ]
  },
  {
   "cell_type": "code",
   "execution_count": 6,
   "metadata": {},
   "outputs": [
    {
     "name": "stdout",
     "output_type": "stream",
     "text": [
      "dev\n",
      "14326\n",
      "14326\n",
      "test\n",
      "7176\n",
      "7176\n"
     ]
    }
   ],
   "source": [
    "\n",
    "for task in recog_set:\n",
    "    nbest_err = []\n",
    "    print(task)\n",
    "    with open(f'./data/aishell_{task}/{nbest}_best/result.txt', 'r') as f:\n",
    "        temp_err = []\n",
    "        for i, line in enumerate(f):\n",
    "            if ('Score' in line):\n",
    "                scores = line.split()[-4:]\n",
    "                temp_err.append(scores)\n",
    "                if (len(temp_err) == nbest):\n",
    "                    nbest_err.append(temp_err)\n",
    "                    temp_err = []\n",
    "        names = []\n",
    "        nbest_token = []\n",
    "        nbest_score = []\n",
    "        ref_text = []\n",
    "        with open(f'./data/aishell_{task}/{nbest}_best/data.json', 'r') as f:\n",
    "            j = json.load(f)\n",
    "            for k in j['utts'].keys():\n",
    "                token = []\n",
    "                score = []\n",
    "                for i, h in enumerate(j['utts'][k]['output']):\n",
    "                    token.append(h[\"rec_text\"])\n",
    "                    score.append(h['score'])\n",
    "                nbest_token.append(token)\n",
    "                nbest_score.append(score)\n",
    "                ref_text.append(j['utts'][k]['output'][0]['text'])\n",
    "                names.append(k)\n",
    "\n",
    "        print(len(ref_text))\n",
    "        dataset = []\n",
    "        for name, token, score, err, ref in zip(names, nbest_token, nbest_score, nbest_err, ref_text):\n",
    "            temp_dict = dict()\n",
    "            temp_dict['name'] = name\n",
    "            temp_dict['token'] = ['[CLS]' + t[:-5] + '[SEP]' for  t  in token]\n",
    "            temp_dict['score'] = score\n",
    "            temp_dict['err'] =  [[int(s) for s in sc] for sc in err]\n",
    "            temp_dict['ref'] = '[CLS]' + ref + '[SEP]'\n",
    "            dataset.append(temp_dict)\n",
    "        print(len(dataset))\n",
    "    with open(f\"./data/aishell_{task}/{nbest}_best/dataset.json\", 'w') as f:\n",
    "        json.dump(dataset, f, ensure_ascii=False, indent = 4)"
   ]
  },
  {
   "cell_type": "markdown",
   "metadata": {},
   "source": []
  },
  {
   "cell_type": "markdown",
   "metadata": {},
   "source": [
    "## Result trn"
   ]
  },
  {
   "cell_type": "code",
   "execution_count": 30,
   "metadata": {},
   "outputs": [],
   "source": [
    "dataset = 'aishell'\n",
    "name = \"vote\"\n",
    "recog_set = ['dev', 'test']\n",
    "nBest = 50\n",
    "training = 'MWER'"
   ]
  },
  {
   "cell_type": "markdown",
   "metadata": {},
   "source": [
    "# BART"
   ]
  },
  {
   "cell_type": "code",
   "execution_count": null,
   "metadata": {},
   "outputs": [],
   "source": [
    "for r in recog_set:\n",
    "    json_name = f'./data/{dataset}_{r}/50_best/bart_token/rescore_data.json'\n",
    "    with open(json_name, 'r') as f, \\\n",
    "            open(f'./data/{dataset}_{r}/10_best/bart_token/hyp.trn', 'w') as hyp, \\\n",
    "            open(f'./data/{dataset}_{r}/10_best/bart_token/ref.trn', 'w') as ref:\n",
    "        j = json.load(f)\n",
    "        for k in j['utts'].keys():\n",
    "                # print(j['utts'][k]['output'])\n",
    "            hyp_seq = j['utts'][k]['rec_token']\n",
    "            hyp.write( f'{hyp_seq} ({k})\\n' )\n",
    "            # hyp.write(hyp_seq + '(' + j[\"utts\"][k][\"utt2spk\"].replace(\"-\", \"_\") + '-' + 'hyp' + i + ')')\n",
    "            ref_seq = j['utts'][k]['text_token']\n",
    "            ref.write( f'{ref_seq} ({k})\\n' )"
   ]
  },
  {
   "cell_type": "markdown",
   "metadata": {},
   "source": [
    "# RescoreBert"
   ]
  },
  {
   "cell_type": "code",
   "execution_count": 31,
   "metadata": {},
   "outputs": [],
   "source": [
    "for r in recog_set:\n",
    "    json_name = f'./data/{dataset}_{r}/50_best/rescore/{training}_rescore_data.json'\n",
    "    with open(json_name, 'r') as f, \\\n",
    "        open(f'./data/{dataset}_{r}/50_best/rescore/{nBest}best_hyp.trn', 'w') as hyp, \\\n",
    "        open(f'./data/{dataset}_{r}/50_best/rescore/{nBest}best_ref.trn', 'w') as ref:\n",
    "        j = json.load(f)\n",
    "        for k in j['utts'].keys():\n",
    "                # print(j['utts'][k]['output'])\n",
    "            hyp_seq = j['utts'][k]['output']['rec_token']\n",
    "            hyp.write( f'{hyp_seq} ({k})\\n' )\n",
    "            # hyp.write(hyp_seq + '(' + j[\"utts\"][k][\"utt2spk\"].replace(\"-\", \"_\") + '-' + 'hyp' + i + ')')\n",
    "            ref_seq = j['utts'][k]['output']['text_token']\n",
    "            ref.write( f'{ref_seq} ({k})\\n' )"
   ]
  },
  {
   "cell_type": "code",
   "execution_count": null,
   "metadata": {},
   "outputs": [],
   "source": [
    "for r in recog_set:\n",
    "    json_name = f'./data/{dataset}_{r}/nBestFusionNet/rescore_data.json'\n",
    "    with open(json_name, 'r') as f, open(f'./data/{dataset}_{r}/nBestFusionNet/hyp_rescore.trn', 'w') as hyp, open(f'./data/{dataset}_{r}/nBestFusionNet/ref_rescore.trn', 'w') as ref:\n",
    "        j = json.load(f)\n",
    "        for k in j['utts'].keys():\n",
    "                # print(j['utts'][k]['output'])\n",
    "            hyp_seq = j['utts'][k]['output']['rec_token']\n",
    "            hyp.write( f'{hyp_seq} ({k})\\n' )\n",
    "            # hyp.write(hyp_seq + '(' + j[\"utts\"][k][\"utt2spk\"].replace(\"-\", \"_\") + '-' + 'hyp' + i + ')')\n",
    "            ref_seq = j['utts'][k]['output']['text_token']\n",
    "            ref.write( f'{ref_seq} ({k})\\n' )"
   ]
  },
  {
   "cell_type": "code",
   "execution_count": null,
   "metadata": {},
   "outputs": [],
   "source": [
    "from transformers import BertTokenizer\n",
    "tokenizer = BertTokenizer.from_pretrained('bert-base-chinese')"
   ]
  },
  {
   "cell_type": "code",
   "execution_count": null,
   "metadata": {},
   "outputs": [],
   "source": [
    "import json\n",
    "import torch\n",
    "# for r in recog_set:\n",
    "best_weight = 0\n",
    "best_cer = 100\n",
    "with open(f'./data/aishell_dev/token_pll.json') as f:\n",
    "    data = json.load(f)\n",
    "    \n",
    "    for n in range(101):\n",
    "        weight = n * 0.01\n",
    "        c = 0\n",
    "        s = 0\n",
    "        de = 0\n",
    "        i = 0\n",
    "        for d in data:\n",
    "            score = torch.tensor(d['score'])\n",
    "            pll = torch.tensor(d['pll'])\n",
    "            cer = d['err']\n",
    "                \n",
    "            result = score + weight * pll\n",
    "\n",
    "            max_index = torch.argmax(result).item()\n",
    "\n",
    "            c += cer[max_index][0]\n",
    "            s += cer[max_index][1]\n",
    "            de += cer[max_index][2]\n",
    "            i += cer[max_index][3]\n",
    " \n",
    "        cer = (s + de + i) / (c + s + de)\n",
    "\n",
    "        if (cer < best_cer):\n",
    "            best_cer = cer\n",
    "            best_weight = weight\n",
    "\n",
    "print(f'best weight:{best_weight} with cer:{best_cer}')\n",
    "\n",
    "for r in recog_set:\n",
    "    with open(f'./data/aishell_{r}/token_pll.json', 'r') as f, \\\n",
    "         open(f'./data/aishell_{r}/rescore/hyp_mlm.trn', 'w') as h,\\\n",
    "         open(f'./data/aishell_{r}/rescore/ref_mlm.trn', 'w') as g:\n",
    "        data = json.load(f)\n",
    "        for n, d in enumerate(data):\n",
    "            score = torch.tensor(d['score'])\n",
    "            pll = torch.tensor(d['pll'])\n",
    "            cer = d['err']\n",
    "            ref = d['ref'][5:-5]\n",
    "            token = d['token']\n",
    "                \n",
    "            result = score + weight * pll\n",
    "\n",
    "            max_index = torch.argmax(result).item()\n",
    "\n",
    "            best_hyp = token[max_index]\n",
    "            sep = best_hyp.index(102)\n",
    "            hyp_seq = tokenizer.convert_ids_to_tokens(best_hyp[1:sep])\n",
    "\n",
    "            h.write( f'{\" \".join(hyp_seq)} ({r}_{n})\\n' )\n",
    "            g.write( f'{\" \".join(list(ref))} ({r}_{n})\\n')\n"
   ]
  },
  {
   "cell_type": "code",
   "execution_count": null,
   "metadata": {},
   "outputs": [],
   "source": []
  }
 ],
 "metadata": {
  "interpreter": {
   "hash": "73d24cb5d47f7eff42f67dedd843d34c814ad2fd675c27745f380df2e781e274"
  },
  "kernelspec": {
   "display_name": "Python 3.9.7 ('base')",
   "language": "python",
   "name": "python3"
  },
  "language_info": {
   "codemirror_mode": {
    "name": "ipython",
    "version": 3
   },
   "file_extension": ".py",
   "mimetype": "text/x-python",
   "name": "python",
   "nbconvert_exporter": "python",
   "pygments_lexer": "ipython3",
   "version": "3.9.7"
  },
  "orig_nbformat": 4
 },
 "nbformat": 4,
 "nbformat_minor": 2
}
