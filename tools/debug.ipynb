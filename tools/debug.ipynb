{
 "cells": [
  {
   "cell_type": "code",
   "execution_count": null,
   "metadata": {},
   "outputs": [],
   "source": [
    "from nBestAligner.nBestAlign import align\n",
    "import torch"
   ]
  },
  {
   "cell_type": "code",
   "execution_count": null,
   "metadata": {},
   "outputs": [],
   "source": [
    "nbest = [\n",
    "    [1,2,3,4,6],\n",
    "    [0, 1, 2, 10],\n",
    "    [2,3,5,7],\n",
    "    [5,10, 4, 8],\n",
    "]"
   ]
  },
  {
   "cell_type": "code",
   "execution_count": null,
   "metadata": {},
   "outputs": [],
   "source": [
    "device = 'cuda' if  torch.cuda.is_available() else 'cpu'"
   ]
  },
  {
   "cell_type": "code",
   "execution_count": null,
   "metadata": {},
   "outputs": [],
   "source": [
    "device = torch.device(device)"
   ]
  },
  {
   "cell_type": "code",
   "execution_count": null,
   "metadata": {},
   "outputs": [],
   "source": [
    "align(nbest, 4)"
   ]
  },
  {
   "cell_type": "code",
   "execution_count": null,
   "metadata": {},
   "outputs": [],
   "source": [
    "from sentence_transformers import SentenceTransformer"
   ]
  },
  {
   "cell_type": "code",
   "execution_count": null,
   "metadata": {},
   "outputs": [],
   "source": [
    "model = SentenceTransformer(\n",
    "                \"cyclone/simcse-chinese-roberta-wwm-ext\",\n",
    "                device = device\n",
    "            )\n"
   ]
  },
  {
   "cell_type": "code",
   "execution_count": null,
   "metadata": {},
   "outputs": [],
   "source": [
    "tokens = ['广州市房地产中介协会分析'].to(device)"
   ]
  },
  {
   "cell_type": "code",
   "execution_count": null,
   "metadata": {},
   "outputs": [],
   "source": [
    "embedding = model.encode(tokens)"
   ]
  },
  {
   "cell_type": "code",
   "execution_count": null,
   "metadata": {},
   "outputs": [],
   "source": [
    "embedding.shape"
   ]
  },
  {
   "cell_type": "code",
   "execution_count": null,
   "metadata": {},
   "outputs": [],
   "source": [
    "from transformers import BertTokenizer\n",
    "tokenizer = BertTokenizer.from_pretrained('bert-base-chinese')"
   ]
  },
  {
   "cell_type": "code",
   "execution_count": null,
   "metadata": {},
   "outputs": [],
   "source": [
    "token = tokenizer.convert_tokens_to_ids(list('广州市房地产中介协会分析'))"
   ]
  },
  {
   "cell_type": "code",
   "execution_count": null,
   "metadata": {},
   "outputs": [],
   "source": [
    "model.encode(token)"
   ]
  },
  {
   "cell_type": "code",
   "execution_count": 1,
   "metadata": {},
   "outputs": [],
   "source": [
    "import torch\n",
    "import logging\n",
    "from torch.nn.functional import log_softmax\n",
    "from transformers import (\n",
    "    BertForMaskedLM,\n",
    "    AutoModelForCausalLM,\n",
    "    BertTokenizerFast,\n",
    ")\n",
    "from torch.optim import AdamW"
   ]
  },
  {
   "cell_type": "code",
   "execution_count": 2,
   "metadata": {},
   "outputs": [],
   "source": [
    "model = AutoModelForCausalLM.from_pretrained('ckiplab/gpt2-base-chinese')"
   ]
  },
  {
   "cell_type": "code",
   "execution_count": 3,
   "metadata": {},
   "outputs": [],
   "source": [
    "seq = torch.tensor([\n",
    "    [\n",
    "                101,\n",
    "                2408,\n",
    "                2336,\n",
    "                2356,\n",
    "                2791,\n",
    "                1765,\n",
    "                772,\n",
    "                704,\n",
    "                792,\n",
    "                1291,\n",
    "                833,\n",
    "                1146,\n",
    "                3358,\n",
    "                102\n",
    "            ],\n",
    "            [\n",
    "                101,\n",
    "                2408,\n",
    "                2336,\n",
    "                2356,\n",
    "                2791,\n",
    "                1765,\n",
    "                772,\n",
    "                704,\n",
    "                6381,\n",
    "                1291,\n",
    "                833,\n",
    "                102,\n",
    "                0,\n",
    "                0\n",
    "            ]\n",
    "        ])"
   ]
  },
  {
   "cell_type": "code",
   "execution_count": 4,
   "metadata": {},
   "outputs": [],
   "source": [
    "output = model(seq)"
   ]
  },
  {
   "cell_type": "code",
   "execution_count": 5,
   "metadata": {},
   "outputs": [
    {
     "data": {
      "text/plain": [
       "torch.Size([2, 14, 21128])"
      ]
     },
     "execution_count": 5,
     "metadata": {},
     "output_type": "execute_result"
    }
   ],
   "source": [
    "output.logits.shape"
   ]
  },
  {
   "cell_type": "code",
   "execution_count": 6,
   "metadata": {},
   "outputs": [],
   "source": [
    "non_cls_index = (seq != 101)\n",
    "non_sep_index = (seq != 102)\n",
    "non_pad_index = (seq != 0)"
   ]
  },
  {
   "cell_type": "code",
   "execution_count": 8,
   "metadata": {},
   "outputs": [
    {
     "data": {
      "text/plain": [
       "torch.Size([2, 14])"
      ]
     },
     "execution_count": 8,
     "metadata": {},
     "output_type": "execute_result"
    }
   ],
   "source": [
    "temp_logit = torch.logical_and(non_cls_index, non_sep_index)\n",
    "token_index = torch.logical_and(temp_logit, non_pad_index)\n",
    "token_index.shape"
   ]
  },
  {
   "cell_type": "code",
   "execution_count": 9,
   "metadata": {},
   "outputs": [],
   "source": [
    "real_token = seq[token_index]"
   ]
  },
  {
   "cell_type": "code",
   "execution_count": 21,
   "metadata": {},
   "outputs": [
    {
     "data": {
      "text/plain": [
       "tensor([2408, 2336, 2356, 2791, 1765,  772,  704,  792, 1291,  833, 1146, 3358,\n",
       "        2408, 2336, 2356, 2791, 1765,  772,  704, 6381, 1291,  833])"
      ]
     },
     "execution_count": 21,
     "metadata": {},
     "output_type": "execute_result"
    }
   ],
   "source": [
    "seq[token_index]"
   ]
  },
  {
   "cell_type": "code",
   "execution_count": 10,
   "metadata": {},
   "outputs": [],
   "source": [
    "logit = output.logits"
   ]
  },
  {
   "cell_type": "code",
   "execution_count": 11,
   "metadata": {},
   "outputs": [
    {
     "data": {
      "text/plain": [
       "torch.Size([2, 14, 21128])"
      ]
     },
     "execution_count": 11,
     "metadata": {},
     "output_type": "execute_result"
    }
   ],
   "source": [
    "logit.shape"
   ]
  },
  {
   "cell_type": "code",
   "execution_count": 12,
   "metadata": {},
   "outputs": [
    {
     "data": {
      "text/plain": [
       "torch.Size([2, 14])"
      ]
     },
     "execution_count": 12,
     "metadata": {},
     "output_type": "execute_result"
    }
   ],
   "source": [
    "seq.shape"
   ]
  },
  {
   "cell_type": "code",
   "execution_count": 14,
   "metadata": {},
   "outputs": [
    {
     "data": {
      "text/plain": [
       "torch.Size([2, 14])"
      ]
     },
     "execution_count": 14,
     "metadata": {},
     "output_type": "execute_result"
    }
   ],
   "source": [
    "score = logit.gather(2, seq.unsqueeze(2)).squeeze(-1)\n",
    "score.shape"
   ]
  },
  {
   "cell_type": "code",
   "execution_count": 26,
   "metadata": {},
   "outputs": [],
   "source": [
    "true_index = torch.nonzero(token_index)"
   ]
  },
  {
   "cell_type": "code",
   "execution_count": 27,
   "metadata": {},
   "outputs": [
    {
     "name": "stdout",
     "output_type": "stream",
     "text": [
      "tensor(0)\n",
      "tensor(0)\n",
      "tensor(0)\n",
      "tensor(0)\n",
      "tensor(0)\n",
      "tensor(0)\n",
      "tensor(0)\n",
      "tensor(0)\n",
      "tensor(0)\n",
      "tensor(0)\n",
      "tensor(0)\n",
      "tensor(0)\n",
      "flush\n",
      "tensor(1)\n",
      "tensor(1)\n",
      "tensor(1)\n",
      "tensor(1)\n",
      "tensor(1)\n",
      "tensor(1)\n",
      "tensor(1)\n",
      "tensor(1)\n",
      "tensor(1)\n",
      "tensor(1)\n"
     ]
    }
   ],
   "source": [
    "sum_score = 0\n",
    "last_i = -1\n",
    "result = []\n",
    "for i, j in true_index:\n",
    "    if (last_i >= 0 and last_i != i):\n",
    "        print('flush')\n",
    "        result.append(sum_score)\n",
    "        sum_score = 0\n",
    "    print(i)\n",
    "    sum_score += score[i][j].item()\n",
    "    last_i = i.item()\n",
    "result.append(sum_score)"
   ]
  },
  {
   "cell_type": "code",
   "execution_count": 139,
   "metadata": {},
   "outputs": [
    {
     "data": {
      "text/plain": [
       "[2.821585178375244, -20.840754985809326]"
      ]
     },
     "execution_count": 139,
     "metadata": {},
     "output_type": "execute_result"
    }
   ],
   "source": [
    "result"
   ]
  },
  {
   "cell_type": "code",
   "execution_count": 36,
   "metadata": {},
   "outputs": [],
   "source": [
    "exp_logit = torch.exp(logit)"
   ]
  },
  {
   "cell_type": "code",
   "execution_count": 38,
   "metadata": {},
   "outputs": [
    {
     "data": {
      "text/plain": [
       "tensor([-127098.0000, -141032.8750, -140960.9844, -145216.1875, -131136.9375,\n",
       "        -124833.8438, -140478.4844, -138558.0000, -148117.0469, -142772.9219,\n",
       "        -141909.0938, -144588.3281, -147351.7812, -148185.6562],\n",
       "       grad_fn=<SumBackward1>)"
      ]
     },
     "execution_count": 38,
     "metadata": {},
     "output_type": "execute_result"
    }
   ],
   "source": [
    "torch.sum(logit, -1)"
   ]
  },
  {
   "cell_type": "code",
   "execution_count": null,
   "metadata": {},
   "outputs": [],
   "source": [
    "string = \"你好啊\"\n",
    "list(string)"
   ]
  },
  {
   "cell_type": "code",
   "execution_count": 112,
   "metadata": {},
   "outputs": [],
   "source": [
    "def digit2cn(digit):\n",
    "    num_unit = \"零一二三四五六七八九\"\n",
    "    basic_unit = \"十百千\"\n",
    "    advanced_unit = \"萬億兆京垓秭穰溝澗正載\"\n",
    "\n",
    "    print(f'digit:{digit}')\n",
    "\n",
    "    digit = digit.lstrip('0')\n",
    "    if (digit == \"\"):\n",
    "        return \"零\"\n",
    "    result = \"\"\n",
    "\n",
    "    if '.' in digit:\n",
    "        float_flag = True\n",
    "        digit1, digit2 = digit.split(\".\")\n",
    "    else:\n",
    "        float_flag = False\n",
    "        digit1 = digit\n",
    "        digit2 = None\n",
    "    if (digit1.lstrip('0') == ''):\n",
    "        result = result + '零'\n",
    "    else:\n",
    "        split_d = [digit[max(i - 4, 0) : i] for i in range(len(digit1), 0 , -4)]\n",
    "        # print(f'split:{split_d}')\n",
    "        for i, sd in enumerate(split_d):\n",
    "            # print(f'sd:{sd}')\n",
    "            strip_sd = sd.lstrip('0')\n",
    "            # print(f'strip_sd:{strip_sd}')\n",
    "            zero_flag = False\n",
    "            if (strip_sd == \"\"):\n",
    "                if (i != 0):\n",
    "                    if (result[0] != '零'):\n",
    "                        result =  \"零\" + result     \n",
    "                        continue\n",
    "            elif (strip_sd) != sd:\n",
    "                zero_flag = True\n",
    "            else:\n",
    "                zero_flag = False\n",
    "\n",
    "            temp_string = str()\n",
    "            basic_zero = True\n",
    "            for j, d_unit in enumerate(strip_sd[::-1]):\n",
    "                # print(f'reverse sd:{strip_sd[::-1]}')\n",
    "                if (j == 0 and d_unit != '0'):\n",
    "                    temp_string = num_unit[int(d_unit)] + temp_string\n",
    "                    basic_zero = False\n",
    "                else:\n",
    "                    if (d_unit != '0'):\n",
    "                        temp_string = num_unit[int(d_unit)] + basic_unit[j - 1] + temp_string\n",
    "\n",
    "                    else:\n",
    "                        if (not basic_zero):\n",
    "                            temp_string = '零' + temp_string\n",
    "                            basic_zero = True\n",
    "            if (i != 0):\n",
    "                temp_string = temp_string + advanced_unit[i - 1]\n",
    "            \n",
    "            if (zero_flag):\n",
    "                if (i != len(split_d) - 1):\n",
    "                    temp_string = \"零\" + temp_string\n",
    "            # print(f\"temp_string:{temp_string}\")\n",
    "            \n",
    "            result = temp_string + result\n",
    "            # print(f'result:{result}')\n",
    "            temp_string = str()\n",
    "    \n",
    "    if (digit2 is not None):\n",
    "        float_str = str()\n",
    "        for d in digit2:\n",
    "            float_str = float_str + num_unit[int(d)]\n",
    "\n",
    "        result = result + \"點\" + float_str\n",
    "        \n",
    "    if (result[0] == '一'):\n",
    "        return result[1:]\n",
    "    else:\n",
    "        return result\n"
   ]
  },
  {
   "cell_type": "code",
   "execution_count": 113,
   "metadata": {},
   "outputs": [
    {
     "name": "stdout",
     "output_type": "stream",
     "text": [
      "digit:0.959\n"
     ]
    },
    {
     "data": {
      "text/plain": [
       "'零點九五九'"
      ]
     },
     "execution_count": 113,
     "metadata": {},
     "output_type": "execute_result"
    }
   ],
   "source": [
    "digit2cn('0.959')"
   ]
  },
  {
   "cell_type": "code",
   "execution_count": null,
   "metadata": {},
   "outputs": [],
   "source": [
    "string = \"00010002\"\n",
    "string = string.lstrip('0')\n",
    "print(string)\n",
    "split_string = [string[max(i - 4, 0) : i] for i in range(len(string), 0 , -4)]\n",
    "split_string[::-1]"
   ]
  }
 ],
 "metadata": {
  "kernelspec": {
   "display_name": "Python 3.6.9 64-bit",
   "language": "python",
   "name": "python3"
  },
  "language_info": {
   "codemirror_mode": {
    "name": "ipython",
    "version": 3
   },
   "file_extension": ".py",
   "mimetype": "text/x-python",
   "name": "python",
   "nbconvert_exporter": "python",
   "pygments_lexer": "ipython3",
   "version": "3.6.9"
  },
  "orig_nbformat": 4,
  "vscode": {
   "interpreter": {
    "hash": "31f2aee4e71d21fbe5cf8b01ff0e069b9275f58929596ceb00d14d90e3e16cd6"
   }
  }
 },
 "nbformat": 4,
 "nbformat_minor": 2
}
