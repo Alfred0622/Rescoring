{
 "cells": [
  {
   "cell_type": "code",
   "execution_count": null,
   "metadata": {},
   "outputs": [],
   "source": [
    "# extract the shortest, longest and medium length of from each dataset"
   ]
  },
  {
   "cell_type": "code",
   "execution_count": null,
   "metadata": {},
   "outputs": [],
   "source": [
    "import json\n",
    "import torch\n",
    "from random import sample"
   ]
  },
  {
   "cell_type": "code",
   "execution_count": null,
   "metadata": {},
   "outputs": [],
   "source": [
    "valid_dict = {\n",
    "    'aishell': 'dev',\n",
    "    'aishell2': 'dev_ios',\n",
    "    'tedlium2': 'dev',\n",
    "    'librispeech': 'dev_clean',\n",
    "    'csj': 'dev'\n",
    "}\n",
    "settings = ['noLM','withLM']"
   ]
  },
  {
   "cell_type": "code",
   "execution_count": null,
   "metadata": {},
   "outputs": [],
   "source": [
    "datasets = ['aishell', 'aishell2', 'tedlium2', 'csj', 'librispeech']"
   ]
  },
  {
   "cell_type": "code",
   "execution_count": null,
   "metadata": {},
   "outputs": [],
   "source": [
    "for dataset in datasets:\n",
    "    for setting in settings:\n",
    "        lens_dict = {} #  The length of ref : id\n",
    "        min_len = 100\n",
    "        max_len = -1\n",
    "        min_len_sentence = None\n",
    "        max_len_sentence = None\n",
    "        len_distribution = []\n",
    "\n",
    "        final_sample = []\n",
    "        with open(f\"../data/{dataset}/data/{setting}/{valid_dict[dataset]}/data.json\") as f:\n",
    "            data_json = json.load(f)\n",
    "\n",
    "            for data in data_json:\n",
    "                if (len(data['ref'].strip().split()) not in lens_dict.keys()):\n",
    "                    lens_dict[len(data['ref'].strip().split())] = [data['name']]\n",
    "                else:\n",
    "                    lens_dict[len(data['ref'].strip().split())].append(data['name'])\n",
    "        \n",
    "        sorted_dict = dict(sorted(lens_dict.items()))\n",
    "        for k in sorted_dict:\n",
    "            len_distribution += [k for _ in range(len(sorted_dict[k]))]\n",
    "        len_distribution = torch.tensor(len_distribution)\n",
    "        median_len = torch.median(len_distribution).item()\n",
    "\n",
    "        min_sample = sample(sorted_dict[min(sorted_dict.keys())], 1)\n",
    "        max_sample = sample(sorted_dict[max(sorted_dict.keys())], 1)\n",
    "        median_sample = sample(sorted_dict[median_len], 1)\n",
    "        \n",
    "        samples = min_sample + max_sample + median_sample\n",
    "        for data in data_json:\n",
    "            if (data['name'] in samples):\n",
    "                final_sample.append(data)\n",
    "        \n",
    "        with open(f\"/mnt/disk6/Alfred/Rescoring/data/sample/{dataset}/{setting}/data.json\", 'w') as dest:\n",
    "            json.dump(final_sample, dest, ensure_ascii=False, indent=1)"
   ]
  },
  {
   "cell_type": "code",
   "execution_count": null,
   "metadata": {},
   "outputs": [],
   "source": []
  },
  {
   "cell_type": "code",
   "execution_count": null,
   "metadata": {},
   "outputs": [],
   "source": []
  }
 ],
 "metadata": {
  "kernelspec": {
   "display_name": "torch10",
   "language": "python",
   "name": "python3"
  },
  "language_info": {
   "codemirror_mode": {
    "name": "ipython",
    "version": 3
   },
   "file_extension": ".py",
   "mimetype": "text/x-python",
   "name": "python",
   "nbconvert_exporter": "python",
   "pygments_lexer": "ipython3",
   "version": "3.9.0"
  },
  "orig_nbformat": 4
 },
 "nbformat": 4,
 "nbformat_minor": 2
}
