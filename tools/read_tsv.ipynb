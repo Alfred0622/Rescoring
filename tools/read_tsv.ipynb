{
 "cells": [
  {
   "cell_type": "code",
   "execution_count": null,
   "metadata": {},
   "outputs": [],
   "source": [
    "import csv\n",
    "import json\n",
    "import sentencepiece"
   ]
  },
  {
   "cell_type": "code",
   "execution_count": null,
   "metadata": {},
   "outputs": [],
   "source": [
    "with open(\"/mnt/disk6/Alfred/Rescoring/data/aishell/aishell_train_simu_nbest4.tsv\", 'r') as f:\n",
    "    tsv_file = csv.reader(f, delimiter='\\t')\n",
    "\n",
    "    result_dict = list()\n",
    "\n",
    "    line_count = 0\n",
    "    for i, line in enumerate(tsv_file):\n",
    "        ref = line[0].split()\n",
    "        ref = \"\".join(ref)\n",
    "        # print(\"REF:\")\n",
    "        # print(ref)\n",
    "\n",
    "        single_hyps = []\n",
    "        for hyp in line[1:]:\n",
    "            temp_hyp = hyp.split()\n",
    "            temp_hyp = \"\".join(temp_hyp)\n",
    "\n",
    "            single_hyps.append(temp_hyp)\n",
    "        \n",
    "        result_dict.append(\n",
    "            {\n",
    "                \"hyps\": single_hyps,\n",
    "                \"ref\": ref\n",
    "            }\n",
    "        )\n",
    "    \n",
    "    with open(\"/mnt/disk6/Alfred/Rescoring/data/aishell/4Best_aishell_train.json\", 'w') as rf:\n",
    "        json.dump(result_dict, rf, indent=1, ensure_ascii = False)"
   ]
  },
  {
   "cell_type": "code",
   "execution_count": null,
   "metadata": {},
   "outputs": [],
   "source": [
    "recog_set = ['dev', 'test']\n",
    "for task in recog_set:\n",
    "    with open(f\"/mnt/disk6/Alfred/Rescoring/data/aishell/aishell_1_{task}_nbest4.tsv\", 'r') as f:\n",
    "        tsv_file = csv.reader(f, delimiter='\\t')\n",
    "\n",
    "        result_dict = list()\n",
    "\n",
    "        line_count = 0\n",
    "        for i, line in enumerate(tsv_file):\n",
    "            ref = line[0].split()\n",
    "            ref = \"\".join(ref)\n",
    "            # print(\"REF:\")\n",
    "            # print(ref)\n",
    "\n",
    "            single_hyps = []\n",
    "            for hyp in line[1:]:\n",
    "                temp_hyp = hyp.split()\n",
    "                temp_hyp = \"\".join(temp_hyp)\n",
    "\n",
    "                single_hyps.append(temp_hyp)\n",
    "            \n",
    "            result_dict.append(\n",
    "                {\n",
    "                    \"hyps\": single_hyps,\n",
    "                    \"ref\": ref\n",
    "                }\n",
    "            )\n",
    "        \n",
    "        with open(f\"/mnt/disk6/Alfred/Rescoring/data/aishell/4Best_aishell_{task}.json\", 'w') as rf:\n",
    "            json.dump(result_dict, rf, indent=1, ensure_ascii = False)"
   ]
  },
  {
   "cell_type": "code",
   "execution_count": null,
   "metadata": {},
   "outputs": [],
   "source": [
    "with open(\"/mnt/disk6/Alfred/Rescoring/data/aishell/aishell_train_simu_nbest4.tsv\", 'r') as f:\n",
    "    tsv_file = csv.reader(f, delimiter='\\t')\n",
    "\n",
    "    result_dict = list()\n",
    "\n",
    "    line_count = 0\n",
    "    with open(\"/mnt/disk6/Alfred/Rescoring/data/aishell/raw/aishell_4best_train.txt\", 'w') as f:\n",
    "        for i, line in enumerate(tsv_file):\n",
    "            ref = line[0].split()\n",
    "            ref = \"\".join(ref)\n",
    "            f.write(f\"{ref}\\n\")"
   ]
  },
  {
   "cell_type": "code",
   "execution_count": null,
   "metadata": {},
   "outputs": [],
   "source": [
    "sentencepiece.SentencePieceTrainer.train(\n",
    "    input='/mnt/disk6/Alfred/Rescoring/data/aishell/raw/aishell_4best_train.txt',\n",
    "    model_prefix='nBest_Align', \n",
    "    vocab_size=40000, \n",
    ")"
   ]
  },
  {
   "cell_type": "code",
   "execution_count": null,
   "metadata": {},
   "outputs": [],
   "source": [
    "from jiwer import wer, cer\n",
    "\n",
    "sp = sentencepiece.SentencePieceProcessor(model_file=\"/mnt/disk6/Alfred/Rescoring/src/Correction/checkpoint/SentencePiece/nBest_Align.model\")\n",
    "\n",
    "    "
   ]
  },
  {
   "cell_type": "code",
   "execution_count": null,
   "metadata": {},
   "outputs": [],
   "source": [
    "with open(\"/mnt/disk6/Alfred/Rescoring/data/aishell/aishell_1_test_nbest4.tsv\") as f:\n",
    "    tsv_file = csv.reader(f, delimiter='\\t')\n",
    "\n",
    "    refs = []\n",
    "    hyps = []\n",
    "\n",
    "    org_hyp = []\n",
    "    org_ref = []\n",
    "\n",
    "    split_org_hyp = []\n",
    "    split_org_ref = []\n",
    "\n",
    "    for i, line in enumerate(tsv_file):\n",
    "        ref = line[0].split()\n",
    "        ref = \"\".join(ref)\n",
    "        hyp = line[1].split()\n",
    "        hyp = \"\".join(hyp)\n",
    "\n",
    "        org_ref.append(ref)\n",
    "        org_hyp.append(hyp)\n",
    "\n",
    "        split_ref = \" \".join([h for h in ref])\n",
    "        split_hyp = \" \".join([h for h in hyp])\n",
    "\n",
    "        split_org_ref.append(split_ref)\n",
    "        split_org_hyp.append(split_hyp)\n",
    "\n",
    "        ref_token = sp.encode(ref, out_type=str)\n",
    "        refs.append(\" \".join(ref_token))\n",
    "        hyp_tokens = sp.encode(hyp, out_type=str)\n",
    "        hyps.append(\" \".join(hyp_tokens))\n"
   ]
  },
  {
   "cell_type": "code",
   "execution_count": null,
   "metadata": {},
   "outputs": [],
   "source": [
    "refs[0]"
   ]
  },
  {
   "cell_type": "code",
   "execution_count": null,
   "metadata": {},
   "outputs": [],
   "source": [
    "hyps[0]"
   ]
  },
  {
   "cell_type": "code",
   "execution_count": null,
   "metadata": {},
   "outputs": [],
   "source": [
    "wer(refs, hyps)"
   ]
  },
  {
   "cell_type": "code",
   "execution_count": null,
   "metadata": {},
   "outputs": [],
   "source": [
    "cer(org_ref, org_hyp)"
   ]
  },
  {
   "cell_type": "code",
   "execution_count": null,
   "metadata": {},
   "outputs": [],
   "source": [
    "wer(split_org_ref, split_org_hyp)"
   ]
  },
  {
   "cell_type": "code",
   "execution_count": null,
   "metadata": {},
   "outputs": [],
   "source": [
    "split_org_ref[0], org_ref[0]"
   ]
  },
  {
   "cell_type": "code",
   "execution_count": null,
   "metadata": {},
   "outputs": [],
   "source": []
  }
 ],
 "metadata": {
  "kernelspec": {
   "display_name": "espnet",
   "language": "python",
   "name": "python3"
  },
  "language_info": {
   "codemirror_mode": {
    "name": "ipython",
    "version": 3
   },
   "file_extension": ".py",
   "mimetype": "text/x-python",
   "name": "python",
   "nbconvert_exporter": "python",
   "pygments_lexer": "ipython3",
   "version": "3.7.12"
  },
  "orig_nbformat": 4,
  "vscode": {
   "interpreter": {
    "hash": "d61efa0292f535b61ed87be00e22440d3452b09a848af9d1a74444b34776c7f4"
   }
  }
 },
 "nbformat": 4,
 "nbformat_minor": 2
}
