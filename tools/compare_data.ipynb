{
 "cells": [
  {
   "cell_type": "code",
   "execution_count": null,
   "metadata": {},
   "outputs": [],
   "source": [
    "import json"
   ]
  },
  {
   "cell_type": "code",
   "execution_count": null,
   "metadata": {},
   "outputs": [],
   "source": [
    "recog_set = ['train', 'dev', 'test']\n",
    "setting = ['noLM', 'withLM']"
   ]
  },
  {
   "cell_type": "code",
   "execution_count": null,
   "metadata": {},
   "outputs": [],
   "source": [
    "for s in setting:\n",
    "    for task in recog_set:\n",
    "        with open(f'/mnt/disk4/Alfred/Rescoring/data/tedlium2/data/{s}/{task}/data.json', 'r') as f : \n",
    "            json_data = json.load(f)\n",
    "            print(f'{task}: tedlium2')\n",
    "            top_1_ref = 0\n",
    "            top_10_ref = 0\n",
    "            other = 0\n",
    "            for data in json_data:\n",
    "                if (data['hyp'][0] == data['ref']):\n",
    "                    top_1_ref += 1\n",
    "                elif (data['ref'] in data['hyp'][:10]):\n",
    "                    top_10_ref += 1\n",
    "                else:\n",
    "                    other += 1\n",
    "                \n",
    "            print(f\"top-1 is ref:{top_1_ref} \\ntop-10 is ref:{top_10_ref} \\nnot in top-10:{other}\\n\")\n",
    "            "
   ]
  },
  {
   "cell_type": "code",
   "execution_count": null,
   "metadata": {},
   "outputs": [],
   "source": []
  }
 ],
 "metadata": {
  "kernelspec": {
   "display_name": "Python 3.7.6 64-bit",
   "language": "python",
   "name": "python3"
  },
  "language_info": {
   "codemirror_mode": {
    "name": "ipython",
    "version": 3
   },
   "file_extension": ".py",
   "mimetype": "text/x-python",
   "name": "python",
   "nbconvert_exporter": "python",
   "pygments_lexer": "ipython3",
   "version": "3.7.6"
  },
  "orig_nbformat": 4,
  "vscode": {
   "interpreter": {
    "hash": "fd69f43f58546b570e94fd7eba7b65e6bcc7a5bbc4eab0408017d18902915d69"
   }
  }
 },
 "nbformat": 4,
 "nbformat_minor": 2
}
