{
 "cells": [
  {
   "cell_type": "code",
   "execution_count": 2,
   "metadata": {},
   "outputs": [],
   "source": [
    "import json"
   ]
  },
  {
   "cell_type": "code",
   "execution_count": 3,
   "metadata": {},
   "outputs": [],
   "source": [
    "recog_set = ['train', 'dev', 'test']"
   ]
  },
  {
   "cell_type": "code",
   "execution_count": 5,
   "metadata": {},
   "outputs": [
    {
     "name": "stdout",
     "output_type": "stream",
     "text": [
      "train: old_aishell\n",
      "top-1 is ref:102112 \n",
      "top-10 is ref:12032 \n",
      "not in top-10:5954\n",
      "\n",
      "train: new aishell\n",
      "top-1 is ref:116423 \n",
      "top-10 is ref:1634 \n",
      "not in top-10:2041\n",
      "\n",
      "dev: old_aishell\n",
      "top-1 is ref:8139 \n",
      "top-10 is ref:2747 \n",
      "not in top-10:3440\n",
      "\n",
      "dev: new aishell\n",
      "top-1 is ref:7131 \n",
      "top-10 is ref:2916 \n",
      "not in top-10:4279\n",
      "\n",
      "test: old_aishell\n",
      "top-1 is ref:3865 \n",
      "top-10 is ref:1411 \n",
      "not in top-10:1900\n",
      "\n",
      "test: new aishell\n",
      "top-1 is ref:3361 \n",
      "top-10 is ref:1412 \n",
      "not in top-10:2403\n",
      "\n"
     ]
    }
   ],
   "source": [
    "for task in recog_set:\n",
    "    with open(f'/mnt/disk4/Alfred/Rescoring/data/compare_aishell/old_data_{task}.json', 'r') as old_f, \\\n",
    "         open(f'/mnt/disk4/Alfred/Rescoring/data/compare_aishell/data_{task}.json', 'r') as f:\n",
    "         old_json_data = json.load(old_f)\n",
    "         json_data = json.load(f)\n",
    "         \n",
    "         print(f'{task}: old_aishell')\n",
    "         top_1_ref = 0\n",
    "         top_10_ref = 0\n",
    "         other = 0\n",
    "         for data in old_json_data:\n",
    "            if (data['hyp'][0] == data['ref']):\n",
    "                top_1_ref += 1\n",
    "            elif (data['ref'] in data['hyp']):\n",
    "                top_10_ref += 1\n",
    "            else:\n",
    "                other += 1\n",
    "            \n",
    "         print(f\"top-1 is ref:{top_1_ref} \\ntop-10 is ref:{top_10_ref} \\nnot in top-10:{other}\\n\")\n",
    "\n",
    "         print(f'{task}: new aishell')\n",
    "         top_1_ref = 0\n",
    "         top_10_ref = 0\n",
    "         other = 0\n",
    "         for data in json_data:\n",
    "            if (data['hyp'][0] == data['ref']):\n",
    "                top_1_ref += 1\n",
    "            elif (data['ref'] in data['hyp']):\n",
    "                top_10_ref += 1\n",
    "            else:\n",
    "                other += 1\n",
    "            \n",
    "         print(f\"top-1 is ref:{top_1_ref} \\ntop-10 is ref:{top_10_ref} \\nnot in top-10:{other}\\n\")\n",
    "            "
   ]
  },
  {
   "cell_type": "code",
   "execution_count": null,
   "metadata": {},
   "outputs": [],
   "source": []
  }
 ],
 "metadata": {
  "kernelspec": {
   "display_name": "Python 3.7.6 64-bit",
   "language": "python",
   "name": "python3"
  },
  "language_info": {
   "codemirror_mode": {
    "name": "ipython",
    "version": 3
   },
   "file_extension": ".py",
   "mimetype": "text/x-python",
   "name": "python",
   "nbconvert_exporter": "python",
   "pygments_lexer": "ipython3",
   "version": "3.7.6"
  },
  "orig_nbformat": 4,
  "vscode": {
   "interpreter": {
    "hash": "fd69f43f58546b570e94fd7eba7b65e6bcc7a5bbc4eab0408017d18902915d69"
   }
  }
 },
 "nbformat": 4,
 "nbformat_minor": 2
}
