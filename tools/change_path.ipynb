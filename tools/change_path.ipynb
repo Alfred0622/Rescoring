{
 "cells": [
  {
   "cell_type": "code",
   "execution_count": 6,
   "metadata": {},
   "outputs": [],
   "source": [
    "import json\n",
    "import shutil"
   ]
  },
  {
   "cell_type": "code",
   "execution_count": 2,
   "metadata": {},
   "outputs": [],
   "source": [
    "espnet_path = f'/mnt/nas3/Alfred/espnet'"
   ]
  },
  {
   "cell_type": "markdown",
   "metadata": {},
   "source": [
    "# Copy original File\n",
    "recog_set = ['train', 'dev_ios', 'test_android', 'test_ios', 'test_mic']\n",
    "for task in recog_set:\n",
    "    shutil.copyfile(f'{espnet_path}/egs/aishell2/asr1/dump/{task}/deltafalse/data.json', f'{espnet_path}/egs/aishell2/asr1/dump/{task}/deltafalse/org_data.json')"
   ]
  },
  {
   "cell_type": "code",
   "execution_count": 9,
   "metadata": {},
   "outputs": [],
   "source": [
    "recog_set = ['train', 'dev_ios', 'test_android', 'test_ios', 'test_mic']\n",
    "for task in recog_set:\n",
    "    with open(f'{espnet_path}/egs/aishell2/asr1/dump/{task}/deltafalse/org_data.json', 'r') as f, \\\n",
    "        open(f'{espnet_path}/egs/aishell2/asr1/dump/{task}/deltafalse/data.json', 'w') as w:\n",
    "        j = json.load(f)\n",
    "        new_dict = dict()\n",
    "        new_dict['utts'] = dict()\n",
    "        for k in j['utts'].keys():\n",
    "            new_dict['utts'][k] = j['utts'][k]\n",
    "            feat_path = j['utts'][k]['input'][0]['feat']\n",
    "            nas_index = feat_path.find('nas')\n",
    "            new_dict['utts'][k]['input'][0]['feat'] = f'mnt/nas3/{feat_path[nas_index + 5:]}'\n",
    "        \n",
    "        json.dump(new_dict, w, ensure_ascii=False, indent = 4)"
   ]
  },
  {
   "cell_type": "code",
   "execution_count": null,
   "metadata": {},
   "outputs": [],
   "source": []
  }
 ],
 "metadata": {
  "kernelspec": {
   "display_name": "Python 3.7.13 ('espnet')",
   "language": "python",
   "name": "python3"
  },
  "language_info": {
   "codemirror_mode": {
    "name": "ipython",
    "version": 3
   },
   "file_extension": ".py",
   "mimetype": "text/x-python",
   "name": "python",
   "nbconvert_exporter": "python",
   "pygments_lexer": "ipython3",
   "version": "3.7.13"
  },
  "orig_nbformat": 4,
  "vscode": {
   "interpreter": {
    "hash": "4888e53144a1008589b15da35c9d452479f8776cb8933be604ac87ba38a9e5be"
   }
  }
 },
 "nbformat": 4,
 "nbformat_minor": 2
}
