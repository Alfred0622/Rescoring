{
 "cells": [
  {
   "cell_type": "code",
   "execution_count": 6,
   "metadata": {},
   "outputs": [],
   "source": [
    "import json\n",
    "import shutil"
   ]
  },
  {
   "cell_type": "code",
   "execution_count": 2,
   "metadata": {},
   "outputs": [],
   "source": [
    "espnet_path = f'/mnt/nas3/Alfred/espnet'"
   ]
  },
  {
   "cell_type": "markdown",
   "metadata": {},
   "source": [
    "# Copy original File\n",
    "recog_set = ['train', 'dev_ios', 'test_android', 'test_ios', 'test_mic']\n",
    "for task in recog_set:\n",
    "    shutil.copyfile(f'{espnet_path}/egs/aishell2/asr1/dump/{task}/deltafalse/data.json', f'{espnet_path}/egs/aishell2/asr1/dump/{task}/deltafalse/org_data.json')"
   ]
  },
  {
   "cell_type": "code",
   "execution_count": 9,
   "metadata": {},
   "outputs": [],
   "source": [
    "recog_set = ['train', 'dev_ios', 'test_android', 'test_ios', 'test_mic']\n",
    "for task in recog_set:\n",
    "    with open(f'{espnet_path}/egs/aishell2/asr1/dump/{task}/deltafalse/org_data.json', 'r') as f, \\\n",
    "        open(f'{espnet_path}/egs/aishell2/asr1/dump/{task}/deltafalse/data.json', 'w') as w:\n",
    "        j = json.load(f)\n",
    "        new_dict = dict()\n",
    "        new_dict['utts'] = dict()\n",
    "        for k in j['utts'].keys():\n",
    "            new_dict['utts'][k] = j['utts'][k]\n",
    "            feat_path = j['utts'][k]['input'][0]['feat']\n",
    "            nas_index = feat_path.find('nas')\n",
    "            new_dict['utts'][k]['input'][0]['feat'] = f'mnt/nas3/{feat_path[nas_index + 5:]}'\n",
    "        \n",
    "        json.dump(new_dict, w, ensure_ascii=False, indent = 4)"
   ]
  },
  {
   "cell_type": "code",
   "execution_count": null,
   "metadata": {},
   "outputs": [],
   "source": []
  }
 ],
 "metadata": {
  "kernelspec": {
   "display_name": "Python 3.7.6 64-bit",
   "language": "python",
   "name": "python3"
  },
  "language_info": {
   "name": "python",
   "version": "3.7.6"
  },
  "orig_nbformat": 4,
  "vscode": {
   "interpreter": {
    "hash": "fd69f43f58546b570e94fd7eba7b65e6bcc7a5bbc4eab0408017d18902915d69"
   }
  }
 },
 "nbformat": 4,
 "nbformat_minor": 2
}
