{
 "cells": [
  {
   "cell_type": "code",
   "execution_count": 14,
   "metadata": {},
   "outputs": [],
   "source": [
    "from jiwer import wer, cer\n",
    "import json"
   ]
  },
  {
   "cell_type": "code",
   "execution_count": 32,
   "metadata": {},
   "outputs": [],
   "source": [
    "with open(f\"/mnt/disk3/Alfred/Rescoring/data/tedlium2/data/noLM/dev/data.json\", 'r') as f:\n",
    "    data_json = json.load(f)\n",
    "\n",
    "hyp = []\n",
    "ref = []\n",
    "\n",
    "for data in data_json:\n",
    "    # hyp_list = [t for t in data['hyp'][0] if t not in [\" \"]]\n",
    "    # ref_list = [t for t in data['ref'] if t not in [\" \"]]\n",
    "    hyp.append(data['hyp'][0])\n",
    "    ref.append(data['ref'])"
   ]
  },
  {
   "cell_type": "code",
   "execution_count": null,
   "metadata": {},
   "outputs": [],
   "source": []
  }
 ],
 "metadata": {
  "kernelspec": {
   "display_name": "Python 3.8.0 ('espnet')",
   "language": "python",
   "name": "python3"
  },
  "language_info": {
   "codemirror_mode": {
    "name": "ipython",
    "version": 3
   },
   "file_extension": ".py",
   "mimetype": "text/x-python",
   "name": "python",
   "nbconvert_exporter": "python",
   "pygments_lexer": "ipython3",
   "version": "3.8.0"
  },
  "orig_nbformat": 4,
  "vscode": {
   "interpreter": {
    "hash": "ca81f6460b493c799750cf6d044ee68e14e350e2584690155d5a455f397852fa"
   }
  }
 },
 "nbformat": 4,
 "nbformat_minor": 2
}
