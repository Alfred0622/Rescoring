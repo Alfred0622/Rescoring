{
 "cells": [
  {
   "cell_type": "code",
   "execution_count": 1,
   "metadata": {},
   "outputs": [],
   "source": [
    "import json"
   ]
  },
  {
   "cell_type": "code",
   "execution_count": 2,
   "metadata": {},
   "outputs": [],
   "source": [
    "dataset = 'aishell'\n",
    "recog_set = ['train', 'dev', 'test']"
   ]
  },
  {
   "cell_type": "code",
   "execution_count": 3,
   "metadata": {},
   "outputs": [],
   "source": [
    "for r in recog_set:\n",
    "    json_name = f'./data/{dataset}_{r}/data_15best.json'\n",
    "    with open(json_name, 'r') as f, open(f'./data/{dataset}_{r}/hyp_15best.trn', 'w') as hyp, open(f'./data/{dataset}_{r}/ref_15best.trn', 'w') as ref:\n",
    "        j = json.load(f)\n",
    "        for k in j['utts'].keys():\n",
    "            for i, h in enumerate(j['utts'][k]['output']):\n",
    "                # print(j['utts'][k]['output'])\n",
    "                seq = [t for t in h['rec_token'].split()]\n",
    "                hyp_seq = \" \".join(seq[:-1])\n",
    "                hyp.write( f'{hyp_seq} ({j[\"utts\"][k][\"utt2spk\"].replace(\"-\", \"_\")}-{k}-hyp[{i}])\\n' )\n",
    "                # hyp.write(hyp_seq + '(' + j[\"utts\"][k][\"utt2spk\"].replace(\"-\", \"_\") + '-' + 'hyp' + i + ')')\n",
    "\n",
    "                ref_seq = h[\"token\"]\n",
    "                ref.write( f'{ref_seq} ({j[\"utts\"][k][\"utt2spk\"].replace(\"-\", \"_\")}-{k}-hyp[{i}])\\n' )"
   ]
  },
  {
   "cell_type": "markdown",
   "metadata": {},
   "source": [
    "上面code跑完 執行espnet的\n",
    "```sclite -r ./ref.trn -h  ./hyp.trn -i rm -o all stdout >  ./result.txt```"
   ]
  },
  {
   "cell_type": "code",
   "execution_count": 18,
   "metadata": {},
   "outputs": [],
   "source": [
    "nbest_err = []\n",
    "with open(f'./data/aishell_train/nbest_result.txt', 'r') as f:\n",
    "    temp_err = []\n",
    "    for i, line in enumerate(f):\n",
    "        if ('Score' in line):\n",
    "            scores = line.split()[-4:]\n",
    "            temp_err.append(scores)\n",
    "            if (len(temp_err) == 10):\n",
    "                nbest_err.append(temp_err)\n",
    "                temp_err = []"
   ]
  },
  {
   "cell_type": "code",
   "execution_count": 19,
   "metadata": {},
   "outputs": [
    {
     "data": {
      "text/plain": [
       "120098"
      ]
     },
     "execution_count": 19,
     "metadata": {},
     "output_type": "execute_result"
    }
   ],
   "source": [
    "len(nbest_err)"
   ]
  },
  {
   "cell_type": "code",
   "execution_count": 20,
   "metadata": {},
   "outputs": [
    {
     "name": "stdout",
     "output_type": "stream",
     "text": [
      "120098\n"
     ]
    }
   ],
   "source": [
    "nbest_token = []\n",
    "nbest_score = []\n",
    "ref_text = []\n",
    "with open('./data/aishell_train/data.json', 'r') as f:\n",
    "    j = json.load(f)\n",
    "    for k in j['utts'].keys():\n",
    "        token = []\n",
    "        score = []\n",
    "        for i, h in enumerate(j['utts'][k]['output']):\n",
    "            token.append(h[\"rec_text\"])\n",
    "            score.append(h['score'])\n",
    "        nbest_token.append(token)\n",
    "        nbest_score.append(score)\n",
    "        ref_text.append(j['utts'][k]['output'][0]['text'])\n",
    "\n",
    "print(len(ref_text))"
   ]
  },
  {
   "cell_type": "code",
   "execution_count": 21,
   "metadata": {},
   "outputs": [
    {
     "name": "stdout",
     "output_type": "stream",
     "text": [
      "120098\n"
     ]
    }
   ],
   "source": [
    "dataset = []\n",
    "for token, score, err, ref in zip(nbest_token, nbest_score, nbest_err, ref_text):\n",
    "    temp_dict = dict()\n",
    "    temp_dict['token'] = ['[CLS]' + t[:-5] + '[SEP]' for  t  in token]\n",
    "    temp_dict['score'] = score\n",
    "    temp_dict['err'] =  [[int(s) for s in sc] for sc in err]\n",
    "    temp_dict['ref'] = '[CLS]' + ref + '[SEP]'\n",
    "    dataset.append(temp_dict)\n",
    "print(len(dataset))"
   ]
  },
  {
   "cell_type": "code",
   "execution_count": 22,
   "metadata": {},
   "outputs": [],
   "source": [
    "with open(\"./data/aishell_train/dataset.json\", 'w') as f:\n",
    "    json.dump(dataset, f, ensure_ascii=False)"
   ]
  },
  {
   "cell_type": "markdown",
   "metadata": {},
   "source": [
    "## Result trn"
   ]
  },
  {
   "cell_type": "code",
   "execution_count": 2,
   "metadata": {},
   "outputs": [],
   "source": [
    "dataset = 'aishell'\n",
    "recog_set = ['dev', 'test']"
   ]
  },
  {
   "cell_type": "code",
   "execution_count": 5,
   "metadata": {},
   "outputs": [],
   "source": [
    "training = 'MD'"
   ]
  },
  {
   "cell_type": "code",
   "execution_count": 4,
   "metadata": {},
   "outputs": [],
   "source": [
    "for r in recog_set:\n",
    "    json_name = f'./data/{dataset}_{r}/nBestFusionNet/rescore_data.json'\n",
    "    with open(json_name, 'r') as f, open(f'./data/{dataset}_{r}/nBestFusionNet/hyp_rescore.trn', 'w') as hyp, open(f'./data/{dataset}_{r}/nBestFusionNet/ref_rescore.trn', 'w') as ref:\n",
    "        j = json.load(f)\n",
    "        for k in j['utts'].keys():\n",
    "                # print(j['utts'][k]['output'])\n",
    "            hyp_seq = j['utts'][k]['output']['rec_token']\n",
    "            hyp.write( f'{hyp_seq} ({k})\\n' )\n",
    "            # hyp.write(hyp_seq + '(' + j[\"utts\"][k][\"utt2spk\"].replace(\"-\", \"_\") + '-' + 'hyp' + i + ')')\n",
    "            ref_seq = j['utts'][k]['output']['text_token']\n",
    "            ref.write( f'{ref_seq} ({k})\\n' )"
   ]
  },
  {
   "cell_type": "code",
   "execution_count": 4,
   "metadata": {},
   "outputs": [],
   "source": [
    "import matplotlib.pyplot as plt\n"
   ]
  },
  {
   "cell_type": "code",
   "execution_count": null,
   "metadata": {},
   "outputs": [],
   "source": [
    "log = f'./log/MD_train.log'\n",
    "train_loss = []\n",
    "dev_loss = []\n",
    "epoch = []\n",
    "step = []\n",
    "\n",
    "with open(log, 'r') as f:\n",
    "    for line in f:\n",
    "        if (line.find('training loss') > 0):\n",
    "            "
   ]
  },
  {
   "cell_type": "code",
   "execution_count": null,
   "metadata": {},
   "outputs": [],
   "source": []
  }
 ],
 "metadata": {
  "interpreter": {
   "hash": "8b61d4f77dfbe8390dfee6517b8c5af4fcaae1c92a3d097799b61ff8897a7412"
  },
  "kernelspec": {
   "display_name": "Python 3.7.11",
   "language": "python",
   "name": "python3"
  },
  "language_info": {
   "codemirror_mode": {
    "name": "ipython",
    "version": 3
   },
   "file_extension": ".py",
   "mimetype": "text/x-python",
   "name": "python",
   "nbconvert_exporter": "python",
   "pygments_lexer": "ipython3",
   "version": "3.7.13"
  },
  "orig_nbformat": 4
 },
 "nbformat": 4,
 "nbformat_minor": 2
}
