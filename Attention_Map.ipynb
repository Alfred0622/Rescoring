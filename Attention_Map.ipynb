{
 "cells": [
  {
   "cell_type": "code",
   "execution_count": 1,
   "metadata": {},
   "outputs": [
    {
     "name": "stderr",
     "output_type": "stream",
     "text": [
      "/mnt/nas3/Alfred/espnet/tools/anaconda/envs/espnet/lib/python3.7/site-packages/tqdm/auto.py:22: TqdmWarning: IProgress not found. Please update jupyter and ipywidgets. See https://ipywidgets.readthedocs.io/en/stable/user_install.html\n",
      "  from .autonotebook import tqdm as notebook_tqdm\n"
     ]
    }
   ],
   "source": [
    "import torch\n",
    "from tqdm import tqdm\n",
    "from BertForRescoring.RescoreBert import RescoreBert\n",
    "from transformers import BertTokenizer\n",
    "import matplotlib\n",
    "import matplotlib.pyplot as plt\n",
    "import numpy as np\n",
    "import json"
   ]
  },
  {
   "cell_type": "code",
   "execution_count": 2,
   "metadata": {},
   "outputs": [
    {
     "data": {
      "text/plain": [
       "{'training_loss': [tensor(4.4956),\n",
       "  tensor(3.7014),\n",
       "  tensor(3.6249),\n",
       "  tensor(3.5536),\n",
       "  tensor(2.4602),\n",
       "  tensor(3.4678),\n",
       "  tensor(3.3562),\n",
       "  tensor(3.3606),\n",
       "  tensor(3.2947),\n",
       "  tensor(2.2840),\n",
       "  tensor(3.2150),\n",
       "  tensor(3.0658),\n",
       "  tensor(3.0656),\n",
       "  tensor(2.9702),\n",
       "  tensor(2.0427),\n",
       "  tensor(2.8560),\n",
       "  tensor(2.6868),\n",
       "  tensor(2.6781),\n",
       "  tensor(2.5908),\n",
       "  tensor(1.7843),\n",
       "  tensor(2.4996),\n",
       "  tensor(2.3448),\n",
       "  tensor(2.3421),\n",
       "  tensor(2.2558),\n",
       "  tensor(1.5458),\n",
       "  tensor(2.1439),\n",
       "  tensor(1.9645),\n",
       "  tensor(1.9274),\n",
       "  tensor(1.8341),\n",
       "  tensor(1.2473),\n",
       "  tensor(1.7188),\n",
       "  tensor(1.5598),\n",
       "  tensor(1.5182),\n",
       "  tensor(1.4411),\n",
       "  tensor(0.9861),\n",
       "  tensor(1.3549),\n",
       "  tensor(1.2190),\n",
       "  tensor(1.1821),\n",
       "  tensor(1.1267),\n",
       "  tensor(0.7742),\n",
       "  tensor(1.0700),\n",
       "  tensor(0.9571),\n",
       "  tensor(0.9296),\n",
       "  tensor(0.8930),\n",
       "  tensor(0.6173),\n",
       "  tensor(0.8574),\n",
       "  tensor(0.7660),\n",
       "  tensor(0.7402),\n",
       "  tensor(0.7149),\n",
       "  tensor(0.4964),\n",
       "  tensor(0.6966),\n",
       "  tensor(0.6203),\n",
       "  tensor(0.5945),\n",
       "  tensor(0.5816),\n",
       "  tensor(0.4078),\n",
       "  tensor(0.5746),\n",
       "  tensor(0.5055),\n",
       "  tensor(0.4870),\n",
       "  tensor(0.4768),\n",
       "  tensor(0.3369),\n",
       "  tensor(0.4722),\n",
       "  tensor(0.4164),\n",
       "  tensor(0.3984),\n",
       "  tensor(0.3943),\n",
       "  tensor(0.2821),\n",
       "  tensor(0.3984),\n",
       "  tensor(0.3480),\n",
       "  tensor(0.3318),\n",
       "  tensor(0.3307),\n",
       "  tensor(0.2383),\n",
       "  tensor(0.3371),\n",
       "  tensor(0.2956),\n",
       "  tensor(0.2798),\n",
       "  tensor(0.2821),\n",
       "  tensor(0.2068),\n",
       "  tensor(0.2921),\n",
       "  tensor(0.2528),\n",
       "  tensor(0.2395),\n",
       "  tensor(0.2410),\n",
       "  tensor(0.1794),\n",
       "  tensor(0.2538),\n",
       "  tensor(0.2190),\n",
       "  tensor(0.2075),\n",
       "  tensor(0.2129),\n",
       "  tensor(0.1586),\n",
       "  tensor(0.2253),\n",
       "  tensor(0.1931),\n",
       "  tensor(0.1806),\n",
       "  tensor(0.1866),\n",
       "  tensor(0.1416),\n",
       "  tensor(0.2007),\n",
       "  tensor(0.1705),\n",
       "  tensor(0.1603),\n",
       "  tensor(0.1673),\n",
       "  tensor(0.1269),\n",
       "  tensor(0.1803),\n",
       "  tensor(0.1548),\n",
       "  tensor(0.1435),\n",
       "  tensor(0.1502),\n",
       "  tensor(0.1138)],\n",
       " 'dev_loss': [tensor(3.8803, device='cuda:0'),\n",
       "  tensor(3.7141, device='cuda:0'),\n",
       "  tensor(3.3998, device='cuda:0'),\n",
       "  tensor(3.1161, device='cuda:0'),\n",
       "  tensor(2.8515, device='cuda:0'),\n",
       "  tensor(2.4775, device='cuda:0'),\n",
       "  tensor(2.2122, device='cuda:0'),\n",
       "  tensor(1.9479, device='cuda:0'),\n",
       "  tensor(1.8244, device='cuda:0'),\n",
       "  tensor(1.6649, device='cuda:0'),\n",
       "  tensor(1.5964, device='cuda:0'),\n",
       "  tensor(1.4823, device='cuda:0'),\n",
       "  tensor(1.4454, device='cuda:0'),\n",
       "  tensor(1.4112, device='cuda:0'),\n",
       "  tensor(1.3821, device='cuda:0'),\n",
       "  tensor(1.3531, device='cuda:0'),\n",
       "  tensor(1.3275, device='cuda:0'),\n",
       "  tensor(1.2983, device='cuda:0'),\n",
       "  tensor(1.2376, device='cuda:0'),\n",
       "  tensor(1.2371, device='cuda:0')]}"
      ]
     },
     "execution_count": 2,
     "metadata": {},
     "output_type": "execute_result"
    }
   ],
   "source": [
    "loss = torch.load('./log/RescoreBert/nBestTransformer/loss.pt')\n",
    "loss"
   ]
  },
  {
   "cell_type": "code",
   "execution_count": 6,
   "metadata": {},
   "outputs": [
    {
     "data": {
      "text/plain": [
       "[<matplotlib.lines.Line2D at 0x7f26c0dbe5d0>]"
      ]
     },
     "execution_count": 6,
     "metadata": {},
     "output_type": "execute_result"
    },
    {
     "data": {
      "image/png": "[encoded data removed]",
      "text/plain": [
       "<Figure size 432x288 with 1 Axes>"
      ]
     },
     "metadata": {
      "needs_background": "light"
     },
     "output_type": "display_data"
    }
   ],
   "source": [
    "dev_loss = [l.item() for l in loss[\"dev_loss\"]]\n",
    "dev_loss\n",
    "\n",
    "plt.plot(range(1,21), dev_loss, 'go')"
   ]
  },
  {
   "cell_type": "code",
   "execution_count": 2,
   "metadata": {},
   "outputs": [],
   "source": [
    "tokenizer = BertTokenizer.from_pretrained('bert-base-chinese')"
   ]
  },
  {
   "cell_type": "code",
   "execution_count": 3,
   "metadata": {},
   "outputs": [],
   "source": [
    "device = 'cuda:0'if torch.cuda.is_available() else 'cpu'\n",
    "device = torch.device(device)"
   ]
  },
  {
   "cell_type": "code",
   "execution_count": 4,
   "metadata": {},
   "outputs": [
    {
     "name": "stderr",
     "output_type": "stream",
     "text": [
      "Some weights of the model checkpoint at bert-base-chinese were not used when initializing BertModel: ['cls.predictions.transform.LayerNorm.bias', 'cls.predictions.transform.dense.bias', 'cls.predictions.transform.LayerNorm.weight', 'cls.predictions.transform.dense.weight', 'cls.seq_relationship.bias', 'cls.seq_relationship.weight', 'cls.predictions.bias', 'cls.predictions.decoder.weight']\n",
      "- This IS expected if you are initializing BertModel from the checkpoint of a model trained on another task or with another architecture (e.g. initializing a BertForSequenceClassification model from a BertForPreTraining model).\n",
      "- This IS NOT expected if you are initializing BertModel from the checkpoint of a model that you expect to be exactly identical (initializing a BertForSequenceClassification model from a BertForSequenceClassification model).\n"
     ]
    }
   ],
   "source": [
    "model = RescoreBert(\n",
    "    train_batch=1,\n",
    "    test_batch=1,\n",
    "    nBest=10,\n",
    "    use_MWER=True,\n",
    "    use_MWED=False,\n",
    "    device=device,\n",
    "    lr=1e-4,\n",
    "    weight=0.59\n",
    ")"
   ]
  },
  {
   "cell_type": "code",
   "execution_count": 109,
   "metadata": {},
   "outputs": [
    {
     "data": {
      "text/plain": [
       "<All keys matched successfully>"
      ]
     },
     "execution_count": 109,
     "metadata": {},
     "output_type": "execute_result"
    }
   ],
   "source": [
    "state_dict = torch.load('./checkpoint/MWER/checkpoint_train_4.pt')\n",
    "model.model.load_state_dict(state_dict[\"state_dict\"])"
   ]
  },
  {
   "cell_type": "code",
   "execution_count": null,
   "metadata": {},
   "outputs": [],
   "source": [
    "# token = '甚 至 出 现 交 易 几 乎 停 止 的 情 况'.split()\n",
    "# token = '甚 至 出 现 交 易 几 乎 停 滞 的 情 况'.split()\n",
    "token_ref = '楼 市 调 控 的 行 政 手 段 宜 减 不 宜 加'.split()\n",
    "token_hyp = '楼 市 调 控 的 行 政 手 段 意 见 不 一 一'.split()\n",
    "token_hyp_2 = '楼 市 调 控 的 行 政 手 段 意 见 不 一'.split()\n",
    "token_id_ref = tokenizer.convert_tokens_to_ids(token_ref)\n",
    "token_id_hyp = tokenizer.convert_tokens_to_ids(token_hyp)\n",
    "token_id_hyp_2 = tokenizer.convert_tokens_to_ids(token_hyp_2)\n",
    "token_id_ref = [101] + token_id_ref + [102]\n",
    "token_id_hyp = [101] + token_id_hyp + [102]\n",
    "token_id_hyp_2 = [101] + token_id_hyp_2 + [102]"
   ]
  },
  {
   "cell_type": "code",
   "execution_count": 8,
   "metadata": {},
   "outputs": [],
   "source": [
    "cos = torch.nn.CosineSimilarity()"
   ]
  },
  {
   "cell_type": "code",
   "execution_count": 9,
   "metadata": {},
   "outputs": [
    {
     "ename": "NameError",
     "evalue": "name 'token_id_ref' is not defined",
     "output_type": "error",
     "traceback": [
      "\u001b[0;31m---------------------------------------------------------------------------\u001b[0m",
      "\u001b[0;31mNameError\u001b[0m                                 Traceback (most recent call last)",
      "\u001b[0;32m/tmp/ipykernel_10570/2042069331.py\u001b[0m in \u001b[0;36m<module>\u001b[0;34m\u001b[0m\n\u001b[0;32m----> 1\u001b[0;31m \u001b[0minput_id_ref\u001b[0m \u001b[0;34m=\u001b[0m \u001b[0mtorch\u001b[0m\u001b[0;34m.\u001b[0m\u001b[0mtensor\u001b[0m\u001b[0;34m(\u001b[0m\u001b[0mtoken_id_ref\u001b[0m\u001b[0;34m)\u001b[0m\u001b[0;34m.\u001b[0m\u001b[0munsqueeze\u001b[0m\u001b[0;34m(\u001b[0m\u001b[0;36m0\u001b[0m\u001b[0;34m)\u001b[0m\u001b[0;34m.\u001b[0m\u001b[0mto\u001b[0m\u001b[0;34m(\u001b[0m\u001b[0mdevice\u001b[0m\u001b[0;34m)\u001b[0m\u001b[0;34m\u001b[0m\u001b[0;34m\u001b[0m\u001b[0m\n\u001b[0m\u001b[1;32m      2\u001b[0m \u001b[0minput_id_hyp\u001b[0m \u001b[0;34m=\u001b[0m \u001b[0mtorch\u001b[0m\u001b[0;34m.\u001b[0m\u001b[0mtensor\u001b[0m\u001b[0;34m(\u001b[0m\u001b[0mtoken_id_hyp\u001b[0m\u001b[0;34m)\u001b[0m\u001b[0;34m.\u001b[0m\u001b[0munsqueeze\u001b[0m\u001b[0;34m(\u001b[0m\u001b[0;36m0\u001b[0m\u001b[0;34m)\u001b[0m\u001b[0;34m.\u001b[0m\u001b[0mto\u001b[0m\u001b[0;34m(\u001b[0m\u001b[0mdevice\u001b[0m\u001b[0;34m)\u001b[0m\u001b[0;34m\u001b[0m\u001b[0;34m\u001b[0m\u001b[0m\n\u001b[1;32m      3\u001b[0m \u001b[0minput_id_hyp_2\u001b[0m \u001b[0;34m=\u001b[0m \u001b[0mtorch\u001b[0m\u001b[0;34m.\u001b[0m\u001b[0mtensor\u001b[0m\u001b[0;34m(\u001b[0m\u001b[0mtoken_id_hyp_2\u001b[0m\u001b[0;34m)\u001b[0m\u001b[0;34m.\u001b[0m\u001b[0munsqueeze\u001b[0m\u001b[0;34m(\u001b[0m\u001b[0;36m0\u001b[0m\u001b[0;34m)\u001b[0m\u001b[0;34m.\u001b[0m\u001b[0mto\u001b[0m\u001b[0;34m(\u001b[0m\u001b[0mdevice\u001b[0m\u001b[0;34m)\u001b[0m\u001b[0;34m\u001b[0m\u001b[0;34m\u001b[0m\u001b[0m\n\u001b[1;32m      4\u001b[0m \u001b[0;34m\u001b[0m\u001b[0m\n\u001b[1;32m      5\u001b[0m \u001b[0mprint\u001b[0m\u001b[0;34m(\u001b[0m\u001b[0minput_id_hyp\u001b[0m\u001b[0;34m)\u001b[0m\u001b[0;34m\u001b[0m\u001b[0;34m\u001b[0m\u001b[0m\n",
      "\u001b[0;31mNameError\u001b[0m: name 'token_id_ref' is not defined"
     ]
    }
   ],
   "source": [
    "input_id_ref = torch.tensor(token_id_ref).unsqueeze(0).to(device)\n",
    "input_id_hyp = torch.tensor(token_id_hyp).unsqueeze(0).to(device)\n",
    "input_id_hyp_2 = torch.tensor(token_id_hyp_2).unsqueeze(0).to(device)\n",
    "\n",
    "print(input_id_hyp)\n",
    "print(input_id_hyp_2)\n",
    "with torch.no_grad():\n",
    "    output_ref = model.model(\n",
    "        input_ids = input_id_ref,\n",
    "    )[0]\n",
    "    output_hyp = model.model(\n",
    "        input_ids = input_id_hyp,\n",
    "    )[0]\n",
    "\n",
    "    output_hyp_2 = model.model(\n",
    "        input_ids = input_id_hyp_2,\n",
    "    )[0]\n",
    "\n",
    "    sim = cos(output_ref.squeeze(0)[0], output_hyp_2.squeeze(0)[0])\n",
    "    print(sim)"
   ]
  },
  {
   "cell_type": "code",
   "execution_count": 110,
   "metadata": {},
   "outputs": [],
   "source": [
    "distribution_dict = dict()\n",
    "recog_set = ['dev', 'test']\n",
    "for task in recog_set:\n",
    "    distribution_dict[task] = {\n",
    "        1:0,\n",
    "        0.95:0,\n",
    "        0.75:0,\n",
    "        0.5:0,\n",
    "        0.25:0,\n",
    "        0:0,\n",
    "        'same':0\n",
    "    }"
   ]
  },
  {
   "cell_type": "code",
   "execution_count": 111,
   "metadata": {},
   "outputs": [
    {
     "name": "stdout",
     "output_type": "stream",
     "text": [
      "dev\n",
      "test\n"
     ]
    }
   ],
   "source": [
    "cos = torch.nn.CosineSimilarity(0)\n",
    "for task in recog_set:\n",
    "    print(task)\n",
    "    data = None\n",
    "    with open(f'./data/aishell_{task}/rescore/MD_rescore_data.json') as f:\n",
    "        data = json.load(f)\n",
    "    \n",
    "    for k in data['utts'].keys():\n",
    "        \n",
    "        token_ref = data['utts'][k]['output']['text_token'].split()\n",
    "        token_hyp = data['utts'][k]['output']['rec_token'].split()  \n",
    "\n",
    "        if (token_ref == token_hyp):\n",
    "            distribution_dict[task]['same'] += 1\n",
    "            continue\n",
    "\n",
    "        token_id_ref = tokenizer.convert_tokens_to_ids(token_ref)\n",
    "        token_id_hyp = tokenizer.convert_tokens_to_ids(token_hyp)\n",
    "        token_id_ref = [101] + token_id_ref + [102]\n",
    "        token_id_hyp = [101] + token_id_hyp + [102]\n",
    "\n",
    "        input_id_ref = torch.tensor(token_id_ref).unsqueeze(0).to(device)\n",
    "        input_id_hyp = torch.tensor(token_id_hyp).unsqueeze(0).to(device)\n",
    "        with torch.no_grad():\n",
    "            output_ref = model.model(\n",
    "                input_ids = input_id_ref,\n",
    "            )[0]\n",
    "\n",
    "            output_hyp = model.model(\n",
    "                input_ids = input_id_hyp,\n",
    "            )[0]\n",
    "\n",
    "        output_ref = output_ref.squeeze(0)[0]\n",
    "        output_hyp = output_hyp.squeeze(0)[0]\n",
    "\n",
    "        sim = cos(output_ref, output_hyp)\n",
    "        if (sim >= 1):\n",
    "            distribution_dict[task][1] += 1\n",
    "        elif (sim < 1 and sim >= 0.95):\n",
    "            distribution_dict[task][0.95] += 1\n",
    "        elif (sim < 0.95 and sim >= 0.75):\n",
    "            distribution_dict[task][0.75] += 1\n",
    "        elif (sim < 0.75 and sim >= 0.5):\n",
    "            distribution_dict[task][0.5] += 1\n",
    "        elif (sim < 0.5 and sim >= 0.25):\n",
    "            distribution_dict[task][0.25] += 1\n",
    "        elif (sim < 0.25):\n",
    "            distribution_dict[task][0] += 1"
   ]
  },
  {
   "cell_type": "code",
   "execution_count": 105,
   "metadata": {},
   "outputs": [
    {
     "data": {
      "text/plain": [
       "{1: 0, 0.95: 2204, 0.75: 1697, 0.5: 483, 0.25: 81, 0: 12, 'same': 9849}"
      ]
     },
     "execution_count": 105,
     "metadata": {},
     "output_type": "execute_result"
    }
   ],
   "source": [
    "distribution_dict['dev']"
   ]
  },
  {
   "cell_type": "code",
   "execution_count": 106,
   "metadata": {},
   "outputs": [
    {
     "data": {
      "text/plain": [
       "{1: 0, 0.95: 1037, 0.75: 966, 0.5: 342, 0.25: 37, 0: 8, 'same': 4786}"
      ]
     },
     "execution_count": 106,
     "metadata": {},
     "output_type": "execute_result"
    }
   ],
   "source": [
    "distribution_dict['test']"
   ]
  },
  {
   "cell_type": "code",
   "execution_count": 115,
   "metadata": {},
   "outputs": [
    {
     "data": {
      "image/png": "[encoded data removed]",
      "text/plain": [
       "<Figure size 432x288 with 1 Axes>"
      ]
     },
     "metadata": {},
     "output_type": "display_data"
    }
   ],
   "source": [
    "task = 'test'\n",
    "labels = [\"Sim == 1\", \"0.95 <= Sim < 1\", \"0.75 <= Sim < 0.95\", \"0.5 <= Sim < 0.75\", \"0.25 <= Sim < 0.5\", \"Sim < 0.25\", \"Same\"]\n",
    "value = list(distribution_dict[task].values())\n",
    "fig, axe = plt.subplots()\n",
    "patches, texts = plt.pie(\n",
    "    value,\n",
    "    startangle=90, radius=1.2 \n",
    "    )\n",
    "\n",
    "legend_labels = ['{} : {}'.format(k, v) for k, v in zip(labels, value)]\n",
    "\n",
    "# sort_legend = True\n",
    "# if sort_legend:\n",
    "#     patches, labels, dummy =  zip(*sorted(zip(patches, labels, list(distribution_dict['test'].values())),\n",
    "#                                           key=lambda x: x[2],\n",
    "#                                           reverse=True))\n",
    "\n",
    "plt.legend(patches, legend_labels, loc = 'best', bbox_to_anchor=(-0.1, 1), fontsize=8)\n",
    "\n",
    "plt.show()"
   ]
  },
  {
   "cell_type": "code",
   "execution_count": null,
   "metadata": {},
   "outputs": [],
   "source": [
    "model.eval()\n",
    "input_id = torch.tensor(token_id_hyp).unsqueeze(0)\n",
    "with torch.no_grad():\n",
    "    attention_map = model.model(\n",
    "        input_ids = input_id,\n",
    "        output_attentions = True\n",
    "    ).attentions\n"
   ]
  },
  {
   "cell_type": "code",
   "execution_count": null,
   "metadata": {},
   "outputs": [],
   "source": [
    "input_id_ref = torch.tensor(token_id_ref).unsqueeze(0)\n",
    "input_id_hyp = torch.tensor(token_id_hyp).unsqueeze(0)\n",
    "with torch.no_grad():\n",
    "    output_ref = model.model(\n",
    "        input_ids = input_id_ref,\n",
    "    )[0]\n",
    "\n",
    "    output_hyp = model.model(\n",
    "        input_ids = input_id_hyp,\n",
    "    )[0]\n",
    "\n",
    "output_ref = output_ref.squeeze(0)[0]\n",
    "output_hyp = output_hyp.squeeze(0)[0]"
   ]
  },
  {
   "cell_type": "code",
   "execution_count": null,
   "metadata": {},
   "outputs": [],
   "source": [
    "\n",
    "print(cos(output_ref.squeeze(0)[0], output_hyp.squeeze(0)[0]))"
   ]
  },
  {
   "cell_type": "code",
   "execution_count": null,
   "metadata": {},
   "outputs": [],
   "source": [
    "fig, axe = plt.subplots(figsize = (10,10))\n",
    "total_map = np.zeros(attention_map[0][0][0].shape)\n",
    "for i in range(len(attention_map)):\n",
    "    np_map = attention_map[i].numpy().squeeze(0)\n",
    "    np_map = np_map[-1]\n",
    "    np_map = np_map * 1e8\n",
    "    np_map = np_map.astype(int)\n",
    "    np_map = np_map / np.linalg.norm(np_map)\n",
    "    total_map += np_map\n",
    "# total_map = np.insert(total_map, 10, 0, axis = 1)\n",
    "# total_map = np.insert(total_map, 10, 0, axis = 0)\n",
    "c = axe.pcolor(total_map, vmin = 0, vmax = 1)\n",
    "fig.colorbar(c, ax = axe)\n",
    "plt.show()"
   ]
  },
  {
   "cell_type": "code",
   "execution_count": null,
   "metadata": {},
   "outputs": [],
   "source": []
  }
 ],
 "metadata": {
  "interpreter": {
   "hash": "4888e53144a1008589b15da35c9d452479f8776cb8933be604ac87ba38a9e5be"
  },
  "kernelspec": {
   "display_name": "Python 3.7.13 ('espnet')",
   "language": "python",
   "name": "python3"
  },
  "language_info": {
   "codemirror_mode": {
    "name": "ipython",
    "version": 3
   },
   "file_extension": ".py",
   "mimetype": "text/x-python",
   "name": "python",
   "nbconvert_exporter": "python",
   "pygments_lexer": "ipython3",
   "version": "3.7.13"
  },
  "orig_nbformat": 4
 },
 "nbformat": 4,
 "nbformat_minor": 2
}
